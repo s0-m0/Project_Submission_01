{
 "cells": [
  {
   "cell_type": "markdown",
   "id": "a3fcec9a-ada4-4eed-9aae-112230c77740",
   "metadata": {},
   "source": [
    "### Objective of this case study:"
   ]
  },
  {
   "cell_type": "markdown",
   "id": "ddc23406-4f8a-475d-9dd6-94cdfd030330",
   "metadata": {},
   "source": [
    "- To understand the customers' payment behaviour & patterns\n",
    "- Predict the likelihood of delay in payments\n",
    "- Gain business insights"
   ]
  },
  {
   "cell_type": "code",
   "execution_count": 3,
   "id": "2b8bbc9f-206d-44e9-9253-659d9ddf1757",
   "metadata": {},
   "outputs": [],
   "source": [
    "# Importing libraries that are needed\n",
    "import numpy as np\n",
    "import pandas as pd\n",
    "import matplotlib.pyplot as plt\n",
    "import seaborn as sns\n",
    "\n",
    "%matplotlib inline\n",
    "\n",
    "import warnings\n",
    "warnings.filterwarnings(\"ignore\")"
   ]
  },
  {
   "cell_type": "markdown",
   "id": "d707711c-9529-4cd1-8acf-4043a1126d59",
   "metadata": {},
   "source": [
    "### Data review & cleanup: Received payments data"
   ]
  },
  {
   "cell_type": "code",
   "execution_count": 5,
   "id": "b7fd4366-7b23-4cbf-9d34-0d460920f9d3",
   "metadata": {},
   "outputs": [
    {
     "data": {
      "text/html": [
       "<div>\n",
       "<style scoped>\n",
       "    .dataframe tbody tr th:only-of-type {\n",
       "        vertical-align: middle;\n",
       "    }\n",
       "\n",
       "    .dataframe tbody tr th {\n",
       "        vertical-align: top;\n",
       "    }\n",
       "\n",
       "    .dataframe thead th {\n",
       "        text-align: right;\n",
       "    }\n",
       "</style>\n",
       "<table border=\"1\" class=\"dataframe\">\n",
       "  <thead>\n",
       "    <tr style=\"text-align: right;\">\n",
       "      <th></th>\n",
       "      <th>RECEIPT_METHOD</th>\n",
       "      <th>CUSTOMER_NAME</th>\n",
       "      <th>CUSTOMER_NUMBER</th>\n",
       "      <th>RECEIPT_DOC_NO</th>\n",
       "      <th>RECEIPT_DATE</th>\n",
       "      <th>CLASS</th>\n",
       "      <th>CURRENCY_CODE</th>\n",
       "      <th>Local Amount</th>\n",
       "      <th>USD Amount</th>\n",
       "      <th>INVOICE_ALLOCATED</th>\n",
       "      <th>INVOICE_CREATION_DATE</th>\n",
       "      <th>DUE_DATE</th>\n",
       "      <th>PAYMENT_TERM</th>\n",
       "      <th>INVOICE_CLASS</th>\n",
       "      <th>INVOICE_CURRENCY_CODE</th>\n",
       "      <th>INVOICE_TYPE</th>\n",
       "    </tr>\n",
       "  </thead>\n",
       "  <tbody>\n",
       "    <tr>\n",
       "      <th>0</th>\n",
       "      <td>WIRE</td>\n",
       "      <td>C EA Corp</td>\n",
       "      <td>37403</td>\n",
       "      <td>1.421000e+10</td>\n",
       "      <td>20-Apr-21</td>\n",
       "      <td>PMT</td>\n",
       "      <td>USD</td>\n",
       "      <td>370990.92</td>\n",
       "      <td>101018.63040</td>\n",
       "      <td>14200000001</td>\n",
       "      <td>2-Nov-20</td>\n",
       "      <td>30-Dec-20</td>\n",
       "      <td>30 Days from EOM</td>\n",
       "      <td>INV</td>\n",
       "      <td>AED</td>\n",
       "      <td>Non Goods</td>\n",
       "    </tr>\n",
       "    <tr>\n",
       "      <th>1</th>\n",
       "      <td>WIRE</td>\n",
       "      <td>RADW Corp</td>\n",
       "      <td>4003</td>\n",
       "      <td>9.921000e+10</td>\n",
       "      <td>31-Jan-21</td>\n",
       "      <td>PMT</td>\n",
       "      <td>SAR</td>\n",
       "      <td>183750.00</td>\n",
       "      <td>48990.21133</td>\n",
       "      <td>99200000043</td>\n",
       "      <td>29-Dec-20</td>\n",
       "      <td>28-Jan-21</td>\n",
       "      <td>30 Days from Inv Date</td>\n",
       "      <td>INV</td>\n",
       "      <td>SAR</td>\n",
       "      <td>Non Goods</td>\n",
       "    </tr>\n",
       "    <tr>\n",
       "      <th>2</th>\n",
       "      <td>WIRE</td>\n",
       "      <td>RADW Corp</td>\n",
       "      <td>4003</td>\n",
       "      <td>9.921000e+10</td>\n",
       "      <td>31-Jan-21</td>\n",
       "      <td>PMT</td>\n",
       "      <td>SAR</td>\n",
       "      <td>157500.00</td>\n",
       "      <td>41991.60971</td>\n",
       "      <td>99210000003</td>\n",
       "      <td>30-Jan-21</td>\n",
       "      <td>1-Mar-21</td>\n",
       "      <td>30 Days from Inv Date</td>\n",
       "      <td>INV</td>\n",
       "      <td>SAR</td>\n",
       "      <td>Non Goods</td>\n",
       "    </tr>\n",
       "    <tr>\n",
       "      <th>3</th>\n",
       "      <td>WIRE</td>\n",
       "      <td>FARO Corp</td>\n",
       "      <td>1409</td>\n",
       "      <td>9.921000e+10</td>\n",
       "      <td>31-Jan-21</td>\n",
       "      <td>PMT</td>\n",
       "      <td>SAR</td>\n",
       "      <td>157500.00</td>\n",
       "      <td>41991.60971</td>\n",
       "      <td>99200000038</td>\n",
       "      <td>15-Dec-20</td>\n",
       "      <td>14-Jan-21</td>\n",
       "      <td>30 Days from Inv Date</td>\n",
       "      <td>INV</td>\n",
       "      <td>SAR</td>\n",
       "      <td>Non Goods</td>\n",
       "    </tr>\n",
       "    <tr>\n",
       "      <th>4</th>\n",
       "      <td>WIRE</td>\n",
       "      <td>RADW Corp</td>\n",
       "      <td>4003</td>\n",
       "      <td>9.921000e+10</td>\n",
       "      <td>31-Jan-21</td>\n",
       "      <td>PMT</td>\n",
       "      <td>SAR</td>\n",
       "      <td>157500.00</td>\n",
       "      <td>41991.60971</td>\n",
       "      <td>99200000039</td>\n",
       "      <td>15-Dec-20</td>\n",
       "      <td>14-Jan-21</td>\n",
       "      <td>30 Days from Inv Date</td>\n",
       "      <td>INV</td>\n",
       "      <td>SAR</td>\n",
       "      <td>Non Goods</td>\n",
       "    </tr>\n",
       "  </tbody>\n",
       "</table>\n",
       "</div>"
      ],
      "text/plain": [
       "  RECEIPT_METHOD CUSTOMER_NAME  CUSTOMER_NUMBER  RECEIPT_DOC_NO RECEIPT_DATE  \\\n",
       "0           WIRE     C EA Corp            37403    1.421000e+10    20-Apr-21   \n",
       "1           WIRE     RADW Corp             4003    9.921000e+10    31-Jan-21   \n",
       "2           WIRE     RADW Corp             4003    9.921000e+10    31-Jan-21   \n",
       "3           WIRE     FARO Corp             1409    9.921000e+10    31-Jan-21   \n",
       "4           WIRE     RADW Corp             4003    9.921000e+10    31-Jan-21   \n",
       "\n",
       "  CLASS CURRENCY_CODE  Local Amount    USD Amount INVOICE_ALLOCATED  \\\n",
       "0   PMT           USD     370990.92  101018.63040       14200000001   \n",
       "1   PMT           SAR     183750.00   48990.21133       99200000043   \n",
       "2   PMT           SAR     157500.00   41991.60971       99210000003   \n",
       "3   PMT           SAR     157500.00   41991.60971       99200000038   \n",
       "4   PMT           SAR     157500.00   41991.60971       99200000039   \n",
       "\n",
       "  INVOICE_CREATION_DATE   DUE_DATE           PAYMENT_TERM INVOICE_CLASS  \\\n",
       "0              2-Nov-20  30-Dec-20       30 Days from EOM           INV   \n",
       "1             29-Dec-20  28-Jan-21  30 Days from Inv Date           INV   \n",
       "2             30-Jan-21   1-Mar-21  30 Days from Inv Date           INV   \n",
       "3             15-Dec-20  14-Jan-21  30 Days from Inv Date           INV   \n",
       "4             15-Dec-20  14-Jan-21  30 Days from Inv Date           INV   \n",
       "\n",
       "  INVOICE_CURRENCY_CODE INVOICE_TYPE  \n",
       "0                   AED    Non Goods  \n",
       "1                   SAR    Non Goods  \n",
       "2                   SAR    Non Goods  \n",
       "3                   SAR    Non Goods  \n",
       "4                   SAR    Non Goods  "
      ]
     },
     "execution_count": 5,
     "metadata": {},
     "output_type": "execute_result"
    }
   ],
   "source": [
    "#Reading the csv\n",
    "received_payments_data = pd.read_csv(\"Received_Payments_Data.csv\")\n",
    "received_payments_data.head()"
   ]
  },
  {
   "cell_type": "code",
   "execution_count": 6,
   "id": "1d8e83f9-4a07-4e5b-85e6-06b363b650dc",
   "metadata": {},
   "outputs": [
    {
     "name": "stdout",
     "output_type": "stream",
     "text": [
      "<class 'pandas.core.frame.DataFrame'>\n",
      "RangeIndex: 93937 entries, 0 to 93936\n",
      "Data columns (total 16 columns):\n",
      " #   Column                 Non-Null Count  Dtype  \n",
      "---  ------                 --------------  -----  \n",
      " 0   RECEIPT_METHOD         93937 non-null  object \n",
      " 1   CUSTOMER_NAME          93937 non-null  object \n",
      " 2   CUSTOMER_NUMBER        93937 non-null  int64  \n",
      " 3   RECEIPT_DOC_NO         93908 non-null  float64\n",
      " 4   RECEIPT_DATE           93937 non-null  object \n",
      " 5   CLASS                  93937 non-null  object \n",
      " 6   CURRENCY_CODE          93937 non-null  object \n",
      " 7   Local Amount           93937 non-null  float64\n",
      " 8   USD Amount             93937 non-null  float64\n",
      " 9   INVOICE_ALLOCATED      93937 non-null  object \n",
      " 10  INVOICE_CREATION_DATE  93937 non-null  object \n",
      " 11  DUE_DATE               93937 non-null  object \n",
      " 12  PAYMENT_TERM           93937 non-null  object \n",
      " 13  INVOICE_CLASS          93937 non-null  object \n",
      " 14  INVOICE_CURRENCY_CODE  93937 non-null  object \n",
      " 15  INVOICE_TYPE           93937 non-null  object \n",
      "dtypes: float64(3), int64(1), object(12)\n",
      "memory usage: 11.5+ MB\n"
     ]
    }
   ],
   "source": [
    "#Reviewing the columns & data types\n",
    "received_payments_data.info()"
   ]
  },
  {
   "cell_type": "markdown",
   "id": "f4e68b91-35e9-40c3-98f1-9cf8fd03a404",
   "metadata": {},
   "source": [
    "##### Note: \n",
    "- There are 93937 entries & 'RECEIPT_DOC_NO' seems to have a few missing values.\n",
    "- The data type for date columns is 'object', therefore, it is required to be converted."
   ]
  },
  {
   "cell_type": "code",
   "execution_count": 8,
   "id": "e88fadf4-76ae-4f92-ac9d-c1a85deddd8e",
   "metadata": {},
   "outputs": [
    {
     "data": {
      "text/plain": [
       "RECEIPT_METHOD           0.00\n",
       "CUSTOMER_NAME            0.00\n",
       "CUSTOMER_NUMBER          0.00\n",
       "RECEIPT_DOC_NO           0.03\n",
       "RECEIPT_DATE             0.00\n",
       "CLASS                    0.00\n",
       "CURRENCY_CODE            0.00\n",
       "Local Amount             0.00\n",
       "USD Amount               0.00\n",
       "INVOICE_ALLOCATED        0.00\n",
       "INVOICE_CREATION_DATE    0.00\n",
       "DUE_DATE                 0.00\n",
       "PAYMENT_TERM             0.00\n",
       "INVOICE_CLASS            0.00\n",
       "INVOICE_CURRENCY_CODE    0.00\n",
       "INVOICE_TYPE             0.00\n",
       "dtype: float64"
      ]
     },
     "execution_count": 8,
     "metadata": {},
     "output_type": "execute_result"
    }
   ],
   "source": [
    "#Checking for weightage of missing values \n",
    "round(received_payments_data.isna().sum()/received_payments_data.RECEIPT_METHOD.count(),4)*100"
   ]
  },
  {
   "cell_type": "markdown",
   "id": "37049cd2-7bbe-4113-a033-79d00bb1daa8",
   "metadata": {},
   "source": [
    "##### Note: \n",
    "- The % of missing values is 0.03% which is negligible.\n",
    "- Also, 'RECEIPT_DOC_NO', 'CUSTOMER_NUMBER' & 'Local Amount' (standard alternative is 'USD Amount') columns can be removed from the table    "
   ]
  },
  {
   "cell_type": "code",
   "execution_count": 10,
   "id": "d8a79999-ae73-46e1-98a8-a3b520a78d8e",
   "metadata": {},
   "outputs": [],
   "source": [
    "#Changing the data types for the date columns\n",
    "received_payments_data['RECEIPT_DATE'] = pd.to_datetime(received_payments_data['RECEIPT_DATE'])\n",
    "received_payments_data['INVOICE_CREATION_DATE'] = pd.to_datetime(received_payments_data['INVOICE_CREATION_DATE'])\n",
    "received_payments_data['DUE_DATE'] = pd.to_datetime(received_payments_data['DUE_DATE'])"
   ]
  },
  {
   "cell_type": "code",
   "execution_count": 11,
   "id": "d5cfe27b-5114-4fa0-9ead-1fa52d0b9c9e",
   "metadata": {},
   "outputs": [],
   "source": [
    "#Removing the columns that are not needed for this study\n",
    "received_payments_data.drop(['RECEIPT_DOC_NO','CUSTOMER_NUMBER','Local Amount'], axis=1, inplace=True)"
   ]
  },
  {
   "cell_type": "code",
   "execution_count": 12,
   "id": "08234609-a075-46c8-a434-7499e7890984",
   "metadata": {},
   "outputs": [
    {
     "name": "stdout",
     "output_type": "stream",
     "text": [
      "<class 'pandas.core.frame.DataFrame'>\n",
      "RangeIndex: 93937 entries, 0 to 93936\n",
      "Data columns (total 13 columns):\n",
      " #   Column                 Non-Null Count  Dtype         \n",
      "---  ------                 --------------  -----         \n",
      " 0   RECEIPT_METHOD         93937 non-null  object        \n",
      " 1   CUSTOMER_NAME          93937 non-null  object        \n",
      " 2   RECEIPT_DATE           93937 non-null  datetime64[ns]\n",
      " 3   CLASS                  93937 non-null  object        \n",
      " 4   CURRENCY_CODE          93937 non-null  object        \n",
      " 5   USD Amount             93937 non-null  float64       \n",
      " 6   INVOICE_ALLOCATED      93937 non-null  object        \n",
      " 7   INVOICE_CREATION_DATE  93937 non-null  datetime64[ns]\n",
      " 8   DUE_DATE               93937 non-null  datetime64[ns]\n",
      " 9   PAYMENT_TERM           93937 non-null  object        \n",
      " 10  INVOICE_CLASS          93937 non-null  object        \n",
      " 11  INVOICE_CURRENCY_CODE  93937 non-null  object        \n",
      " 12  INVOICE_TYPE           93937 non-null  object        \n",
      "dtypes: datetime64[ns](3), float64(1), object(9)\n",
      "memory usage: 9.3+ MB\n"
     ]
    }
   ],
   "source": [
    "#Checking the changes made\n",
    "received_payments_data.info()"
   ]
  },
  {
   "cell_type": "code",
   "execution_count": 13,
   "id": "ce58e986-5335-495f-9195-b9a3e34c64a1",
   "metadata": {},
   "outputs": [
    {
     "data": {
      "text/plain": [
       "RECEIPT_METHOD               8\n",
       "CUSTOMER_NAME              690\n",
       "RECEIPT_DATE               170\n",
       "CLASS                        1\n",
       "CURRENCY_CODE                8\n",
       "USD Amount                7820\n",
       "INVOICE_ALLOCATED        12986\n",
       "INVOICE_CREATION_DATE     1310\n",
       "DUE_DATE                  1203\n",
       "PAYMENT_TERM                42\n",
       "INVOICE_CLASS                3\n",
       "INVOICE_CURRENCY_CODE       10\n",
       "INVOICE_TYPE                 2\n",
       "dtype: int64"
      ]
     },
     "execution_count": 13,
     "metadata": {},
     "output_type": "execute_result"
    }
   ],
   "source": [
    "#Checking for the number of unique values within the columns\n",
    "received_payments_data.nunique()"
   ]
  },
  {
   "cell_type": "code",
   "execution_count": 14,
   "id": "954b2c68-e2fa-4afe-a7c3-6896142b5e74",
   "metadata": {},
   "outputs": [
    {
     "data": {
      "text/plain": [
       "(1126, 13)"
      ]
     },
     "execution_count": 14,
     "metadata": {},
     "output_type": "execute_result"
    }
   ],
   "source": [
    "received_payments_data[received_payments_data['USD Amount']==0].shape"
   ]
  },
  {
   "cell_type": "markdown",
   "id": "169e3165-22e6-41e8-b3a9-f1b9f615c52e",
   "metadata": {},
   "source": [
    "##### Note: \n",
    "- 'CLASS' column has only one attribute 'PMT'. Not being useful to our study, the column can be dropped\n",
    "- USD Amount = 0 for entries can be removed because there will be no payments made for the same"
   ]
  },
  {
   "cell_type": "code",
   "execution_count": 16,
   "id": "f0daf246-4805-4339-891e-abbe7cafe1d8",
   "metadata": {},
   "outputs": [],
   "source": [
    "#Removing the columns that are not needed for this study\n",
    "received_payments_data.drop(['CLASS'], axis=1, inplace=True)"
   ]
  },
  {
   "cell_type": "code",
   "execution_count": 17,
   "id": "99ebfbb9-fd1c-4db2-b983-19ad2f9d5861",
   "metadata": {},
   "outputs": [],
   "source": [
    "#Removing the entries with USD Amount = 0\n",
    "received_payments_data=received_payments_data[received_payments_data['USD Amount']>0]"
   ]
  },
  {
   "cell_type": "code",
   "execution_count": 18,
   "id": "f991eb1a-5918-46e1-a43b-7d757538bc16",
   "metadata": {},
   "outputs": [
    {
     "name": "stdout",
     "output_type": "stream",
     "text": [
      "<class 'pandas.core.frame.DataFrame'>\n",
      "Index: 92811 entries, 0 to 93936\n",
      "Data columns (total 12 columns):\n",
      " #   Column                 Non-Null Count  Dtype         \n",
      "---  ------                 --------------  -----         \n",
      " 0   RECEIPT_METHOD         92811 non-null  object        \n",
      " 1   CUSTOMER_NAME          92811 non-null  object        \n",
      " 2   RECEIPT_DATE           92811 non-null  datetime64[ns]\n",
      " 3   CURRENCY_CODE          92811 non-null  object        \n",
      " 4   USD Amount             92811 non-null  float64       \n",
      " 5   INVOICE_ALLOCATED      92811 non-null  object        \n",
      " 6   INVOICE_CREATION_DATE  92811 non-null  datetime64[ns]\n",
      " 7   DUE_DATE               92811 non-null  datetime64[ns]\n",
      " 8   PAYMENT_TERM           92811 non-null  object        \n",
      " 9   INVOICE_CLASS          92811 non-null  object        \n",
      " 10  INVOICE_CURRENCY_CODE  92811 non-null  object        \n",
      " 11  INVOICE_TYPE           92811 non-null  object        \n",
      "dtypes: datetime64[ns](3), float64(1), object(8)\n",
      "memory usage: 9.2+ MB\n"
     ]
    }
   ],
   "source": [
    "#Checking the changes made\n",
    "received_payments_data.info()"
   ]
  },
  {
   "cell_type": "code",
   "execution_count": 19,
   "id": "202bb294-c1e5-4628-b5f5-297fa6858304",
   "metadata": {},
   "outputs": [],
   "source": [
    "#Resetting index\n",
    "received_payments_data=received_payments_data.reset_index()"
   ]
  },
  {
   "cell_type": "code",
   "execution_count": 20,
   "id": "48d96007-9840-4073-bf37-9c287e62f6ca",
   "metadata": {},
   "outputs": [
    {
     "name": "stdout",
     "output_type": "stream",
     "text": [
      "<class 'pandas.core.frame.DataFrame'>\n",
      "RangeIndex: 92811 entries, 0 to 92810\n",
      "Data columns (total 13 columns):\n",
      " #   Column                 Non-Null Count  Dtype         \n",
      "---  ------                 --------------  -----         \n",
      " 0   index                  92811 non-null  int64         \n",
      " 1   RECEIPT_METHOD         92811 non-null  object        \n",
      " 2   CUSTOMER_NAME          92811 non-null  object        \n",
      " 3   RECEIPT_DATE           92811 non-null  datetime64[ns]\n",
      " 4   CURRENCY_CODE          92811 non-null  object        \n",
      " 5   USD Amount             92811 non-null  float64       \n",
      " 6   INVOICE_ALLOCATED      92811 non-null  object        \n",
      " 7   INVOICE_CREATION_DATE  92811 non-null  datetime64[ns]\n",
      " 8   DUE_DATE               92811 non-null  datetime64[ns]\n",
      " 9   PAYMENT_TERM           92811 non-null  object        \n",
      " 10  INVOICE_CLASS          92811 non-null  object        \n",
      " 11  INVOICE_CURRENCY_CODE  92811 non-null  object        \n",
      " 12  INVOICE_TYPE           92811 non-null  object        \n",
      "dtypes: datetime64[ns](3), float64(1), int64(1), object(8)\n",
      "memory usage: 9.2+ MB\n"
     ]
    }
   ],
   "source": [
    "#Checking the changes made\n",
    "received_payments_data.info()"
   ]
  },
  {
   "cell_type": "markdown",
   "id": "c86a21b7-0b0d-44cb-bab0-89a5a01a3620",
   "metadata": {},
   "source": [
    "### Data analysis"
   ]
  },
  {
   "cell_type": "markdown",
   "id": "fa501bee-4675-49d9-8dbe-235c4979300a",
   "metadata": {},
   "source": [
    "##### Note: Now that we have cleaned the data, it is important to analyse a few parameters that are important for this study"
   ]
  },
  {
   "cell_type": "code",
   "execution_count": 23,
   "id": "cfdc1e19-0ea8-4570-84d3-406f6b157c9d",
   "metadata": {},
   "outputs": [
    {
     "data": {
      "text/plain": [
       "RECEIPT_METHOD\n",
       "WIRE             83281\n",
       "AP/AR Netting     4847\n",
       "CHEQUE            3472\n",
       "CASH               782\n",
       "I/C WIRE           211\n",
       "PDC                210\n",
       "I/C Check            6\n",
       "I/C CASH             2\n",
       "Name: count, dtype: int64"
      ]
     },
     "execution_count": 23,
     "metadata": {},
     "output_type": "execute_result"
    }
   ],
   "source": [
    "#Checking the spread of the data \n",
    "received_payments_data['RECEIPT_METHOD'].value_counts()"
   ]
  },
  {
   "cell_type": "code",
   "execution_count": 24,
   "id": "99a072af-0322-4214-b2c9-bf290a1b1b4b",
   "metadata": {},
   "outputs": [
    {
     "data": {
      "text/plain": [
       "CUSTOMER_NAME\n",
       "SEPH Corp    23075\n",
       "FARO Corp    15004\n",
       "PARF Corp     6624\n",
       "ALLI Corp     5645\n",
       "AREE Corp     2224\n",
       "             ...  \n",
       "MHM  Corp        1\n",
       "HAJR Corp        1\n",
       "RASH Corp        1\n",
       "AHL  Corp        1\n",
       "JOMA Corp        1\n",
       "Name: count, Length: 689, dtype: int64"
      ]
     },
     "execution_count": 24,
     "metadata": {},
     "output_type": "execute_result"
    }
   ],
   "source": [
    "#Checking the spread of the data \n",
    "received_payments_data['CUSTOMER_NAME'].value_counts()"
   ]
  },
  {
   "cell_type": "code",
   "execution_count": 25,
   "id": "44423af2-3f5b-4a47-952a-e3cc8521b9c7",
   "metadata": {},
   "outputs": [
    {
     "data": {
      "text/plain": [
       "CURRENCY_CODE\n",
       "AED    36027\n",
       "SAR    35784\n",
       "USD    19361\n",
       "EUR     1438\n",
       "GBP      130\n",
       "BHD       59\n",
       "KWD       10\n",
       "QAR        2\n",
       "Name: count, dtype: int64"
      ]
     },
     "execution_count": 25,
     "metadata": {},
     "output_type": "execute_result"
    }
   ],
   "source": [
    "#Checking the spread of the data \n",
    "received_payments_data['CURRENCY_CODE'].value_counts()"
   ]
  },
  {
   "cell_type": "code",
   "execution_count": 26,
   "id": "2d31ff48-bceb-4481-81d7-5c14ffc002e8",
   "metadata": {},
   "outputs": [
    {
     "data": {
      "text/plain": [
       "INVOICE_CLASS\n",
       "INV    87313\n",
       "CM      4946\n",
       "DM       552\n",
       "Name: count, dtype: int64"
      ]
     },
     "execution_count": 26,
     "metadata": {},
     "output_type": "execute_result"
    }
   ],
   "source": [
    "#Checking the spread of the data \n",
    "received_payments_data['INVOICE_CLASS'].value_counts()"
   ]
  },
  {
   "cell_type": "code",
   "execution_count": 27,
   "id": "f05354d9-9112-4748-850d-f691b5205877",
   "metadata": {},
   "outputs": [
    {
     "data": {
      "text/plain": [
       "INVOICE_CURRENCY_CODE\n",
       "SAR    38491\n",
       "AED    32119\n",
       "USD    18389\n",
       "EUR     1518\n",
       "KWD     1088\n",
       "QAR      611\n",
       "BHD      400\n",
       "GBP      134\n",
       "JOD       38\n",
       "ZAR       23\n",
       "Name: count, dtype: int64"
      ]
     },
     "execution_count": 27,
     "metadata": {},
     "output_type": "execute_result"
    }
   ],
   "source": [
    "#Checking the spread of the data \n",
    "received_payments_data['INVOICE_CURRENCY_CODE'].value_counts()"
   ]
  },
  {
   "cell_type": "code",
   "execution_count": 28,
   "id": "3b8a25c4-3788-44f3-a5e4-973e84e2fc51",
   "metadata": {},
   "outputs": [
    {
     "data": {
      "text/plain": [
       "INVOICE_TYPE\n",
       "Goods        66569\n",
       "Non Goods    26242\n",
       "Name: count, dtype: int64"
      ]
     },
     "execution_count": 28,
     "metadata": {},
     "output_type": "execute_result"
    }
   ],
   "source": [
    "#Checking the spread of the data \n",
    "received_payments_data['INVOICE_TYPE'].value_counts()"
   ]
  },
  {
   "cell_type": "code",
   "execution_count": 29,
   "id": "0247aa86-2b2c-4872-a5a5-158ab5c7aafd",
   "metadata": {},
   "outputs": [
    {
     "data": {
      "text/plain": [
       "count       92811.0\n",
       "mean       537646.0\n",
       "std        954807.0\n",
       "min             1.0\n",
       "25%         40453.0\n",
       "50%        191287.0\n",
       "75%        599614.0\n",
       "max      10849829.0\n",
       "Name: USD Amount, dtype: float64"
      ]
     },
     "execution_count": 29,
     "metadata": {},
     "output_type": "execute_result"
    }
   ],
   "source": [
    "#Checking the spread of the data \n",
    "received_payments_data['USD Amount'].describe().round()"
   ]
  },
  {
   "cell_type": "markdown",
   "id": "a5fa53da-6d3b-46bc-b9e3-628738afc27b",
   "metadata": {},
   "source": [
    "##### Note:\n",
    "- Wire transfer is the most utilised receipt method\n",
    "- AED, SAR & USD are the most utilised currencies\n",
    "- The major class of the invoice type has been for Goods\n",
    "- And there have been a few credit notes & debit notes\n",
    "\n",
    "Now, we need to move onto the the creation of the target variable i.e. 'defaulted' for the cases where the receipt date greater than the due date "
   ]
  },
  {
   "cell_type": "code",
   "execution_count": 31,
   "id": "84569f33-e7e6-4980-8b28-e1fcac4fe491",
   "metadata": {},
   "outputs": [],
   "source": [
    "#Creating the target column 'defaulted'\n",
    "received_payments_data['defaulted'] = (received_payments_data[\"RECEIPT_DATE\"] > received_payments_data[\"DUE_DATE\"]).astype(int)"
   ]
  },
  {
   "cell_type": "code",
   "execution_count": 32,
   "id": "c2aad919-98cb-462e-9491-ff0b7de8e775",
   "metadata": {},
   "outputs": [
    {
     "data": {
      "text/plain": [
       "defaulted\n",
       "1    60933\n",
       "0    31878\n",
       "Name: count, dtype: int64"
      ]
     },
     "execution_count": 32,
     "metadata": {},
     "output_type": "execute_result"
    }
   ],
   "source": [
    "#Count of defaulted bill payments\n",
    "received_payments_data.defaulted.value_counts()"
   ]
  },
  {
   "cell_type": "code",
   "execution_count": 33,
   "id": "72050127-6afd-4901-a8c9-1e5203450076",
   "metadata": {},
   "outputs": [
    {
     "data": {
      "text/plain": [
       "defaulted\n",
       "1    0.656528\n",
       "0    0.343472\n",
       "Name: proportion, dtype: float64"
      ]
     },
     "execution_count": 33,
     "metadata": {},
     "output_type": "execute_result"
    }
   ],
   "source": [
    "#% of defaulted bill payments\n",
    "received_payments_data.defaulted.value_counts(normalize=True)"
   ]
  },
  {
   "cell_type": "markdown",
   "id": "61887091-fb82-48aa-b89c-b626df083832",
   "metadata": {},
   "source": [
    "##### Note: 66% defaults/delay in invoices is not good for the organisation"
   ]
  },
  {
   "cell_type": "code",
   "execution_count": 35,
   "id": "37e9069d-ee82-4af1-9f9a-011e08c122b2",
   "metadata": {},
   "outputs": [],
   "source": [
    "#Extracting months from the date columns\n",
    "received_payments_data['reciept_month'] = received_payments_data['RECEIPT_DATE'].dt.month\n",
    "received_payments_data['invoice_creation_month'] = received_payments_data['INVOICE_CREATION_DATE'].dt.month\n",
    "received_payments_data['due_month'] = received_payments_data['DUE_DATE'].dt.month"
   ]
  },
  {
   "cell_type": "code",
   "execution_count": 36,
   "id": "7f383336-84d2-427e-bee1-3d4ac87c1adb",
   "metadata": {},
   "outputs": [
    {
     "data": {
      "text/plain": [
       "due_month\n",
       "1     13295\n",
       "2     12893\n",
       "3     14605\n",
       "4     14051\n",
       "5     13321\n",
       "6     10479\n",
       "7      1523\n",
       "8      1075\n",
       "9       914\n",
       "10     1579\n",
       "11     2875\n",
       "12     6201\n",
       "Name: DUE_DATE, dtype: int64"
      ]
     },
     "execution_count": 36,
     "metadata": {},
     "output_type": "execute_result"
    }
   ],
   "source": [
    "#Month-wise due invoices\n",
    "orders_due_by_month = received_payments_data.groupby('due_month').count()['DUE_DATE']\n",
    "orders_due_by_month"
   ]
  },
  {
   "cell_type": "code",
   "execution_count": 37,
   "id": "79b02c16-26ef-457e-bbb0-475b5ed40a10",
   "metadata": {},
   "outputs": [
    {
     "data": {
      "text/html": [
       "<div>\n",
       "<style scoped>\n",
       "    .dataframe tbody tr th:only-of-type {\n",
       "        vertical-align: middle;\n",
       "    }\n",
       "\n",
       "    .dataframe tbody tr th {\n",
       "        vertical-align: top;\n",
       "    }\n",
       "\n",
       "    .dataframe thead tr th {\n",
       "        text-align: left;\n",
       "    }\n",
       "</style>\n",
       "<table border=\"1\" class=\"dataframe\">\n",
       "  <thead>\n",
       "    <tr>\n",
       "      <th></th>\n",
       "      <th>defaulted</th>\n",
       "      <th>mean</th>\n",
       "      <th>median</th>\n",
       "      <th>std</th>\n",
       "    </tr>\n",
       "    <tr>\n",
       "      <th></th>\n",
       "      <th></th>\n",
       "      <th>USD Amount</th>\n",
       "      <th>USD Amount</th>\n",
       "      <th>USD Amount</th>\n",
       "    </tr>\n",
       "  </thead>\n",
       "  <tbody>\n",
       "    <tr>\n",
       "      <th>0</th>\n",
       "      <td>0</td>\n",
       "      <td>575248.0</td>\n",
       "      <td>224785.0</td>\n",
       "      <td>879206.0</td>\n",
       "    </tr>\n",
       "    <tr>\n",
       "      <th>1</th>\n",
       "      <td>1</td>\n",
       "      <td>517974.0</td>\n",
       "      <td>165499.0</td>\n",
       "      <td>991505.0</td>\n",
       "    </tr>\n",
       "  </tbody>\n",
       "</table>\n",
       "</div>"
      ],
      "text/plain": [
       "  defaulted       mean     median        std\n",
       "            USD Amount USD Amount USD Amount\n",
       "0         0   575248.0   224785.0   879206.0\n",
       "1         1   517974.0   165499.0   991505.0"
      ]
     },
     "execution_count": 37,
     "metadata": {},
     "output_type": "execute_result"
    }
   ],
   "source": [
    "#Paid on time & delayed USD amounts\n",
    "usd_amt_delayed = received_payments_data.pivot_table(values='USD Amount', index='defaulted', aggfunc=['mean', 'median', np.std]).reset_index()\n",
    "usd_amt_delayed.round()"
   ]
  },
  {
   "cell_type": "code",
   "execution_count": 38,
   "id": "f02f63c0-47de-4f08-8a12-ba71a0012ff1",
   "metadata": {},
   "outputs": [
    {
     "data": {
      "image/png": "[encoded data removed]",
      "text/plain": [
       "<Figure size 600x600 with 1 Axes>"
      ]
     },
     "metadata": {},
     "output_type": "display_data"
    }
   ],
   "source": [
    "#Visualising the data\n",
    "plt.figure(figsize=(6,6))\n",
    "\n",
    "sns.boxplot(y = 'USD Amount', x='defaulted', data = received_payments_data)\n",
    "plt.title(\"Comparing distribution of payments on time and delayed payments\")\n",
    "\n",
    "plt.show()"
   ]
  },
  {
   "cell_type": "code",
   "execution_count": 39,
   "id": "2293d9d5-9698-4061-ba3d-e213e42d5efd",
   "metadata": {},
   "outputs": [
    {
     "data": {
      "text/plain": [
       "0     SEPH Corp\n",
       "1     FARO Corp\n",
       "2     PARF Corp\n",
       "3     ALLI Corp\n",
       "4     AREE Corp\n",
       "5     DEBE Corp\n",
       "6     RADW Corp\n",
       "7     YOUG Corp\n",
       "8     HABC Corp\n",
       "9     CARR Corp\n",
       "10    AL T Corp\n",
       "11    VAVA Corp\n",
       "12    CGR  Corp\n",
       "13    REAL Corp\n",
       "14    PARI Corp\n",
       "15    ARAB Corp\n",
       "16    LIFE Corp\n",
       "17    AL S Corp\n",
       "18    MCT  Corp\n",
       "19    CWF  Corp\n",
       "20    AL F Corp\n",
       "21    CHRI Corp\n",
       "Name: CUSTOMER_NAME, dtype: object"
      ]
     },
     "execution_count": 39,
     "metadata": {},
     "output_type": "execute_result"
    }
   ],
   "source": [
    "#Finding customers with more than 500 orders\n",
    "total_orders_by_customers = received_payments_data.groupby('CUSTOMER_NAME').count()['defaulted'].sort_values(ascending=False).reset_index()\n",
    "customers_with_500 = total_orders_by_customers[total_orders_by_customers['defaulted'] > 500]['CUSTOMER_NAME']\n",
    "customers_with_500"
   ]
  },
  {
   "cell_type": "code",
   "execution_count": 40,
   "id": "2de5a44f-51d4-471e-9627-c3342aaa7d8b",
   "metadata": {},
   "outputs": [
    {
     "data": {
      "image/png": "[encoded data removed]",
      "text/plain": [
       "<Figure size 200x300 with 1 Axes>"
      ]
     },
     "metadata": {},
     "output_type": "display_data"
    }
   ],
   "source": [
    "#Visualising the rate of delayed payments by Invoice Type\n",
    "plt.figure(figsize=(2,3))\n",
    "sns.barplot(data=received_payments_data, x='INVOICE_TYPE', y='defaulted', estimator=np.mean, palette='Blues_r')\n",
    "plt.title(\"Rate of delayed payments vs. Type of goods\")\n",
    "plt.xlabel(\"Type\")\n",
    "plt.ylabel(\"Delayed Payments Rate\")\n",
    "plt.show()"
   ]
  },
  {
   "cell_type": "code",
   "execution_count": 41,
   "id": "19c27391-fe8b-468a-b7e9-db1d5f38e202",
   "metadata": {},
   "outputs": [
    {
     "data": {
      "text/plain": [
       "PAYMENT_TERM\n",
       "60 Days from Inv Date                                      0.212712\n",
       "30 Days from Inv Date                                      0.363793\n",
       "60 Days from EOM                                           0.498605\n",
       "30 Days from EOM                                           0.620368\n",
       "15 Days from EOM                                           0.701533\n",
       "Immediate Payment                                          0.760449\n",
       "Immediate                                                  0.813740\n",
       "90 Days from EOM                                           0.855685\n",
       "45 Days from Inv Date                                      0.893935\n",
       "45 Days from EOM                                           0.931743\n",
       "90 Days from Inv Date                                      0.955566\n",
       "100% Adv Payment                                           0.968905\n",
       "25 DAYS FROM EOM                                           0.973882\n",
       "Cash on Delivery                                           0.978386\n",
       "15 Days from Inv Date                                      0.982222\n",
       "45 DAYS + EOM                                              0.985691\n",
       "On Consignment                                             0.988536\n",
       "EOM                                                        0.991036\n",
       "75 Days from EOM                                           0.993158\n",
       "120 Days from Inv Date                                     0.994473\n",
       "LC at 60 days                                              0.995712\n",
       "50% Advance 50% INVDATE+60 DAYS                            0.996725\n",
       "75 Days from Inv Date                                      0.997360\n",
       "7 Days from Inv Date                                       0.997856\n",
       "50% ADV 50% 30 Days                                        0.998330\n",
       "LCSight                                                    0.998664\n",
       "LC at 90 days                                              0.998976\n",
       "195 days from Invoice Date                                 0.999224\n",
       "LC at 60 days from FCR/AWB/BL date                         0.999418\n",
       "30% advance 70% after 60 days from invoice date            0.999569\n",
       "50% ADVANCE PAYMENT AND 50% UPON RECEIVING THE SHIPMENT    0.999655\n",
       "30% advance 70% after 30 days from invoice date            0.999720\n",
       "Cash Against Document at sight                             0.999785\n",
       "365 DAYS FROM INVOICE DATE                                 0.999838\n",
       "25% ADVANCE, 75% 30 DAYS FROM INVOICE DATE                 0.999881\n",
       "Advance with discount                                      0.999903\n",
       "50% at 30 days and 50% at 60 days                          0.999925\n",
       "40 DAYS FROM EOM                                           0.999946\n",
       "Standby LC at 30 days                                      0.999968\n",
       "180 DAYS FROM INV DATE                                     0.999978\n",
       "120 Days from EOM                                          0.999989\n",
       "7 Days from EOM                                            1.000000\n",
       "Name: proportion, dtype: float64"
      ]
     },
     "execution_count": 41,
     "metadata": {},
     "output_type": "execute_result"
    }
   ],
   "source": [
    "#Get cummulative sum on value_counts()\n",
    "payment_term_sum = received_payments_data['PAYMENT_TERM'].value_counts(normalize=True).cumsum()\n",
    "payment_term_sum"
   ]
  },
  {
   "cell_type": "code",
   "execution_count": 42,
   "id": "5b033b57-72c3-4e11-a18d-8c6673175661",
   "metadata": {},
   "outputs": [],
   "source": [
    "#Merging the duplicate columns\n",
    "received_payments_data['PAYMENT_TERM'] = received_payments_data['PAYMENT_TERM'].replace('Immediate', 'Immediate Payment')\n",
    "received_payments_data['PAYMENT_TERM'] = received_payments_data['PAYMENT_TERM'].replace('45 DAYS + EOM', '45 Days from EOM')"
   ]
  },
  {
   "cell_type": "code",
   "execution_count": 43,
   "id": "11194eeb-b819-4472-a73e-ae36e78aa68c",
   "metadata": {},
   "outputs": [
    {
     "data": {
      "text/plain": [
       "PAYMENT_TERM\n",
       "60 Days from Inv Date                                      0.212712\n",
       "30 Days from Inv Date                                      0.363793\n",
       "60 Days from EOM                                           0.498605\n",
       "30 Days from EOM                                           0.620368\n",
       "Immediate Payment                                          0.732575\n",
       "15 Days from EOM                                           0.813740\n",
       "90 Days from EOM                                           0.855685\n",
       "45 Days from EOM                                           0.896963\n",
       "45 Days from Inv Date                                      0.935212\n",
       "90 Days from Inv Date                                      0.959035\n",
       "100% Adv Payment                                           0.972374\n",
       "25 DAYS FROM EOM                                           0.977352\n",
       "Cash on Delivery                                           0.981856\n",
       "15 Days from Inv Date                                      0.985691\n",
       "On Consignment                                             0.988536\n",
       "EOM                                                        0.991036\n",
       "75 Days from EOM                                           0.993158\n",
       "120 Days from Inv Date                                     0.994473\n",
       "LC at 60 days                                              0.995712\n",
       "50% Advance 50% INVDATE+60 DAYS                            0.996725\n",
       "75 Days from Inv Date                                      0.997360\n",
       "7 Days from Inv Date                                       0.997856\n",
       "50% ADV 50% 30 Days                                        0.998330\n",
       "LCSight                                                    0.998664\n",
       "LC at 90 days                                              0.998976\n",
       "195 days from Invoice Date                                 0.999224\n",
       "LC at 60 days from FCR/AWB/BL date                         0.999418\n",
       "30% advance 70% after 60 days from invoice date            0.999569\n",
       "50% ADVANCE PAYMENT AND 50% UPON RECEIVING THE SHIPMENT    0.999655\n",
       "30% advance 70% after 30 days from invoice date            0.999720\n",
       "Cash Against Document at sight                             0.999785\n",
       "365 DAYS FROM INVOICE DATE                                 0.999838\n",
       "25% ADVANCE, 75% 30 DAYS FROM INVOICE DATE                 0.999881\n",
       "Advance with discount                                      0.999903\n",
       "Standby LC at 30 days                                      0.999925\n",
       "50% at 30 days and 50% at 60 days                          0.999946\n",
       "40 DAYS FROM EOM                                           0.999968\n",
       "180 DAYS FROM INV DATE                                     0.999978\n",
       "120 Days from EOM                                          0.999989\n",
       "7 Days from EOM                                            1.000000\n",
       "Name: proportion, dtype: float64"
      ]
     },
     "execution_count": 43,
     "metadata": {},
     "output_type": "execute_result"
    }
   ],
   "source": [
    "#With changes\n",
    "payment_term_sum = received_payments_data['PAYMENT_TERM'].value_counts(normalize=True).cumsum()\n",
    "payment_term_sum"
   ]
  },
  {
   "cell_type": "code",
   "execution_count": 44,
   "id": "568cb7f1-7def-4989-a23e-f2329144730d",
   "metadata": {},
   "outputs": [
    {
     "data": {
      "text/plain": [
       "PAYMENT_TERM\n",
       "60 Days from Inv Date    19742\n",
       "30 Days from Inv Date    14022\n",
       "60 Days from EOM         12512\n",
       "30 Days from EOM         11301\n",
       "Immediate Payment        10414\n",
       "15 Days from EOM          7533\n",
       "90 Days from EOM          3893\n",
       "45 Days from EOM          3831\n",
       "45 Days from Inv Date     3550\n",
       "Others                    2564\n",
       "90 Days from Inv Date     2211\n",
       "100% Adv Payment          1238\n",
       "Name: count, dtype: int64"
      ]
     },
     "execution_count": 44,
     "metadata": {},
     "output_type": "execute_result"
    }
   ],
   "source": [
    "#Taking top 11 attributes that account for 97% of the data\n",
    "top_attributes = payment_term_sum.index[:11]\n",
    "\n",
    "#Moving the rest values to Others\n",
    "received_payments_data['PAYMENT_TERM'] = received_payments_data['PAYMENT_TERM'].apply(lambda x : x if x in top_attributes else 'Others')\n",
    "\n",
    "received_payments_data['PAYMENT_TERM'].value_counts()"
   ]
  },
  {
   "cell_type": "code",
   "execution_count": 45,
   "id": "55f1b347-8894-4d67-92ca-5c093cfdf223",
   "metadata": {},
   "outputs": [
    {
     "data": {
      "text/plain": [
       "Index(['index', 'RECEIPT_METHOD', 'CUSTOMER_NAME', 'RECEIPT_DATE',\n",
       "       'CURRENCY_CODE', 'USD Amount', 'INVOICE_ALLOCATED',\n",
       "       'INVOICE_CREATION_DATE', 'DUE_DATE', 'INVOICE_CURRENCY_CODE',\n",
       "       'INVOICE_TYPE', 'defaulted', 'reciept_month', 'invoice_creation_month',\n",
       "       'due_month', '100% Adv Payment', '15 Days from EOM', '30 Days from EOM',\n",
       "       '30 Days from Inv Date', '45 Days from EOM', '45 Days from Inv Date',\n",
       "       '60 Days from EOM', '60 Days from Inv Date', '90 Days from EOM',\n",
       "       '90 Days from Inv Date', 'Immediate Payment', 'CM', 'DM', 'INV'],\n",
       "      dtype='object')"
      ]
     },
     "execution_count": 45,
     "metadata": {},
     "output_type": "execute_result"
    }
   ],
   "source": [
    "#Dummy variables for the 'PAYMENT_TERM' & 'INVOICE_CLASS' columns\n",
    "payment_term_dummy= pd.get_dummies(received_payments_data['PAYMENT_TERM']).drop('Others', axis=1)\n",
    "received_payments_data = received_payments_data.join(payment_term_dummy).drop('PAYMENT_TERM', axis=1)\n",
    "\n",
    "invoice_class_dummy= pd.get_dummies(received_payments_data['INVOICE_CLASS'])\n",
    "received_payments_data = received_payments_data.join(invoice_class_dummy).drop('INVOICE_CLASS', axis=1)\n",
    "\n",
    "received_payments_data.columns"
   ]
  },
  {
   "cell_type": "markdown",
   "id": "cb63a912-3a5a-4327-9c5e-31173166a2d2",
   "metadata": {},
   "source": [
    "### Working on the 'Open Invoice' dataset"
   ]
  },
  {
   "cell_type": "code",
   "execution_count": 47,
   "id": "f1b9acf0-0c92-4fea-b9ce-e273603f3c3e",
   "metadata": {},
   "outputs": [
    {
     "data": {
      "text/html": [
       "<div>\n",
       "<style scoped>\n",
       "    .dataframe tbody tr th:only-of-type {\n",
       "        vertical-align: middle;\n",
       "    }\n",
       "\n",
       "    .dataframe tbody tr th {\n",
       "        vertical-align: top;\n",
       "    }\n",
       "\n",
       "    .dataframe thead th {\n",
       "        text-align: right;\n",
       "    }\n",
       "</style>\n",
       "<table border=\"1\" class=\"dataframe\">\n",
       "  <thead>\n",
       "    <tr style=\"text-align: right;\">\n",
       "      <th></th>\n",
       "      <th>AS_OF_DATE</th>\n",
       "      <th>Customer Type</th>\n",
       "      <th>Customer_Name</th>\n",
       "      <th>Customer Account No</th>\n",
       "      <th>Transaction Number</th>\n",
       "      <th>Transaction Date</th>\n",
       "      <th>Payment Term</th>\n",
       "      <th>Due Date</th>\n",
       "      <th>Transaction Currency</th>\n",
       "      <th>Local Amount</th>\n",
       "      <th>Transaction Class</th>\n",
       "      <th>AGE</th>\n",
       "      <th>USD Amount</th>\n",
       "      <th>INV_CREATION_DATE</th>\n",
       "    </tr>\n",
       "  </thead>\n",
       "  <tbody>\n",
       "    <tr>\n",
       "      <th>0</th>\n",
       "      <td>04-APR-2022 01:07:01</td>\n",
       "      <td>3rd Party</td>\n",
       "      <td>GIVE Corp</td>\n",
       "      <td>49144.0</td>\n",
       "      <td>100210000438</td>\n",
       "      <td>21/12/2021</td>\n",
       "      <td>Immediate</td>\n",
       "      <td>21/12/2021</td>\n",
       "      <td>AED</td>\n",
       "      <td>-3,088</td>\n",
       "      <td>CREDIT NOTE</td>\n",
       "      <td>105</td>\n",
       "      <td>-3,088</td>\n",
       "      <td>12/21/2021 12:53</td>\n",
       "    </tr>\n",
       "    <tr>\n",
       "      <th>1</th>\n",
       "      <td>04-APR-2022 01:07:01</td>\n",
       "      <td>Related Party</td>\n",
       "      <td>AL J Corp</td>\n",
       "      <td>23152.0</td>\n",
       "      <td>100220000052</td>\n",
       "      <td>01/02/2022</td>\n",
       "      <td>30 Days from Inv Date</td>\n",
       "      <td>03/03/2022</td>\n",
       "      <td>USD</td>\n",
       "      <td>2,000</td>\n",
       "      <td>INVOICE</td>\n",
       "      <td>33</td>\n",
       "      <td>2,000</td>\n",
       "      <td>2/1/2022 14:09</td>\n",
       "    </tr>\n",
       "    <tr>\n",
       "      <th>2</th>\n",
       "      <td>04-APR-2022 01:07:01</td>\n",
       "      <td>Related Party</td>\n",
       "      <td>AL J Corp</td>\n",
       "      <td>23152.0</td>\n",
       "      <td>100220000143</td>\n",
       "      <td>24/03/2022</td>\n",
       "      <td>30 Days from Inv Date</td>\n",
       "      <td>23/04/2022</td>\n",
       "      <td>USD</td>\n",
       "      <td>2,000</td>\n",
       "      <td>INVOICE</td>\n",
       "      <td>-18</td>\n",
       "      <td>2,000</td>\n",
       "      <td>3/24/2022 17:46</td>\n",
       "    </tr>\n",
       "    <tr>\n",
       "      <th>3</th>\n",
       "      <td>04-APR-2022 01:07:01</td>\n",
       "      <td>Related Party</td>\n",
       "      <td>AL R Corp</td>\n",
       "      <td>23312.0</td>\n",
       "      <td>100220000001</td>\n",
       "      <td>04/01/2022</td>\n",
       "      <td>15 Days from Inv Date</td>\n",
       "      <td>19/01/2022</td>\n",
       "      <td>AED</td>\n",
       "      <td>2,415</td>\n",
       "      <td>INVOICE</td>\n",
       "      <td>76</td>\n",
       "      <td>2,415</td>\n",
       "      <td>1/5/2022 11:49</td>\n",
       "    </tr>\n",
       "    <tr>\n",
       "      <th>4</th>\n",
       "      <td>04-APR-2022 01:07:01</td>\n",
       "      <td>Related Party</td>\n",
       "      <td>ALLI Corp</td>\n",
       "      <td>7530.0</td>\n",
       "      <td>100220000105</td>\n",
       "      <td>03/03/2022</td>\n",
       "      <td>30 Days from EOM</td>\n",
       "      <td>30/04/2022</td>\n",
       "      <td>AED</td>\n",
       "      <td>3,800</td>\n",
       "      <td>INVOICE</td>\n",
       "      <td>-25</td>\n",
       "      <td>3,800</td>\n",
       "      <td>3/3/2022 22:30</td>\n",
       "    </tr>\n",
       "  </tbody>\n",
       "</table>\n",
       "</div>"
      ],
      "text/plain": [
       "             AS_OF_DATE  Customer Type Customer_Name  Customer Account No  \\\n",
       "0  04-APR-2022 01:07:01      3rd Party     GIVE Corp              49144.0   \n",
       "1  04-APR-2022 01:07:01  Related Party     AL J Corp              23152.0   \n",
       "2  04-APR-2022 01:07:01  Related Party     AL J Corp              23152.0   \n",
       "3  04-APR-2022 01:07:01  Related Party     AL R Corp              23312.0   \n",
       "4  04-APR-2022 01:07:01  Related Party     ALLI Corp               7530.0   \n",
       "\n",
       "  Transaction Number Transaction Date           Payment Term    Due Date  \\\n",
       "0       100210000438       21/12/2021              Immediate  21/12/2021   \n",
       "1       100220000052       01/02/2022  30 Days from Inv Date  03/03/2022   \n",
       "2       100220000143       24/03/2022  30 Days from Inv Date  23/04/2022   \n",
       "3       100220000001       04/01/2022  15 Days from Inv Date  19/01/2022   \n",
       "4       100220000105       03/03/2022       30 Days from EOM  30/04/2022   \n",
       "\n",
       "  Transaction Currency Local Amount Transaction Class  AGE USD Amount  \\\n",
       "0                  AED       -3,088       CREDIT NOTE  105     -3,088   \n",
       "1                  USD        2,000           INVOICE   33      2,000   \n",
       "2                  USD        2,000           INVOICE  -18      2,000   \n",
       "3                  AED        2,415           INVOICE   76      2,415   \n",
       "4                  AED        3,800           INVOICE  -25      3,800   \n",
       "\n",
       "  INV_CREATION_DATE  \n",
       "0  12/21/2021 12:53  \n",
       "1    2/1/2022 14:09  \n",
       "2   3/24/2022 17:46  \n",
       "3    1/5/2022 11:49  \n",
       "4    3/3/2022 22:30  "
      ]
     },
     "execution_count": 47,
     "metadata": {},
     "output_type": "execute_result"
    }
   ],
   "source": [
    "# Reading the open invoice dataset\n",
    "open_invoice_data = pd.read_csv(\"Open_Invoice_data.csv\",encoding='latin1')\n",
    "open_invoice_data.head()"
   ]
  },
  {
   "cell_type": "code",
   "execution_count": 48,
   "id": "ebd8ea34-f6bf-45b4-b466-75ba888ab990",
   "metadata": {},
   "outputs": [],
   "source": [
    "#Carrying out the data cleanup & formatting as done for the training dataset\n",
    "#Dropping the insignificant columns\n",
    "open_invoice_data.drop(['AS_OF_DATE','Customer Type','Transaction Date','Transaction Currency',\n",
    "                        'Transaction Number','Customer Account No','Local Amount'], axis= 1, inplace= True)"
   ]
  },
  {
   "cell_type": "code",
   "execution_count": 49,
   "id": "7c74262f-e8f6-452e-bed1-2f46fef77199",
   "metadata": {},
   "outputs": [
    {
     "name": "stdout",
     "output_type": "stream",
     "text": [
      "<class 'pandas.core.frame.DataFrame'>\n",
      "RangeIndex: 88204 entries, 0 to 88203\n",
      "Data columns (total 7 columns):\n",
      " #   Column             Non-Null Count  Dtype \n",
      "---  ------             --------------  ----- \n",
      " 0   Customer_Name      88204 non-null  object\n",
      " 1   Payment Term       88204 non-null  object\n",
      " 2   Due Date           88204 non-null  object\n",
      " 3   Transaction Class  88204 non-null  object\n",
      " 4   AGE                88204 non-null  int64 \n",
      " 5   USD Amount         88204 non-null  object\n",
      " 6   INV_CREATION_DATE  88204 non-null  object\n",
      "dtypes: int64(1), object(6)\n",
      "memory usage: 4.7+ MB\n"
     ]
    }
   ],
   "source": [
    "#Running the datatype check\n",
    "open_invoice_data.info()"
   ]
  },
  {
   "cell_type": "code",
   "execution_count": 50,
   "id": "c008ca52-7fd5-4ad5-94aa-f6e89409cc43",
   "metadata": {},
   "outputs": [
    {
     "data": {
      "text/html": [
       "<div>\n",
       "<style scoped>\n",
       "    .dataframe tbody tr th:only-of-type {\n",
       "        vertical-align: middle;\n",
       "    }\n",
       "\n",
       "    .dataframe tbody tr th {\n",
       "        vertical-align: top;\n",
       "    }\n",
       "\n",
       "    .dataframe thead th {\n",
       "        text-align: right;\n",
       "    }\n",
       "</style>\n",
       "<table border=\"1\" class=\"dataframe\">\n",
       "  <thead>\n",
       "    <tr style=\"text-align: right;\">\n",
       "      <th></th>\n",
       "      <th>Customer_Name</th>\n",
       "      <th>Payment Term</th>\n",
       "      <th>Due Date</th>\n",
       "      <th>Transaction Class</th>\n",
       "      <th>AGE</th>\n",
       "      <th>USD Amount</th>\n",
       "      <th>INV_CREATION_DATE</th>\n",
       "    </tr>\n",
       "  </thead>\n",
       "  <tbody>\n",
       "    <tr>\n",
       "      <th>0</th>\n",
       "      <td>GIVE Corp</td>\n",
       "      <td>Immediate</td>\n",
       "      <td>21/12/2021</td>\n",
       "      <td>CREDIT NOTE</td>\n",
       "      <td>105</td>\n",
       "      <td>-3,088</td>\n",
       "      <td>12/21/2021 12:53</td>\n",
       "    </tr>\n",
       "    <tr>\n",
       "      <th>1</th>\n",
       "      <td>AL J Corp</td>\n",
       "      <td>30 Days from Inv Date</td>\n",
       "      <td>03/03/2022</td>\n",
       "      <td>INVOICE</td>\n",
       "      <td>33</td>\n",
       "      <td>2,000</td>\n",
       "      <td>2/1/2022 14:09</td>\n",
       "    </tr>\n",
       "    <tr>\n",
       "      <th>2</th>\n",
       "      <td>AL J Corp</td>\n",
       "      <td>30 Days from Inv Date</td>\n",
       "      <td>23/04/2022</td>\n",
       "      <td>INVOICE</td>\n",
       "      <td>-18</td>\n",
       "      <td>2,000</td>\n",
       "      <td>3/24/2022 17:46</td>\n",
       "    </tr>\n",
       "    <tr>\n",
       "      <th>3</th>\n",
       "      <td>AL R Corp</td>\n",
       "      <td>15 Days from Inv Date</td>\n",
       "      <td>19/01/2022</td>\n",
       "      <td>INVOICE</td>\n",
       "      <td>76</td>\n",
       "      <td>2,415</td>\n",
       "      <td>1/5/2022 11:49</td>\n",
       "    </tr>\n",
       "    <tr>\n",
       "      <th>4</th>\n",
       "      <td>ALLI Corp</td>\n",
       "      <td>30 Days from EOM</td>\n",
       "      <td>30/04/2022</td>\n",
       "      <td>INVOICE</td>\n",
       "      <td>-25</td>\n",
       "      <td>3,800</td>\n",
       "      <td>3/3/2022 22:30</td>\n",
       "    </tr>\n",
       "  </tbody>\n",
       "</table>\n",
       "</div>"
      ],
      "text/plain": [
       "  Customer_Name           Payment Term    Due Date Transaction Class  AGE  \\\n",
       "0     GIVE Corp              Immediate  21/12/2021       CREDIT NOTE  105   \n",
       "1     AL J Corp  30 Days from Inv Date  03/03/2022           INVOICE   33   \n",
       "2     AL J Corp  30 Days from Inv Date  23/04/2022           INVOICE  -18   \n",
       "3     AL R Corp  15 Days from Inv Date  19/01/2022           INVOICE   76   \n",
       "4     ALLI Corp       30 Days from EOM  30/04/2022           INVOICE  -25   \n",
       "\n",
       "  USD Amount INV_CREATION_DATE  \n",
       "0     -3,088  12/21/2021 12:53  \n",
       "1      2,000    2/1/2022 14:09  \n",
       "2      2,000   3/24/2022 17:46  \n",
       "3      2,415    1/5/2022 11:49  \n",
       "4      3,800    3/3/2022 22:30  "
      ]
     },
     "execution_count": 50,
     "metadata": {},
     "output_type": "execute_result"
    }
   ],
   "source": [
    "#Viewing the datatypes\n",
    "open_invoice_data.head()"
   ]
  },
  {
   "cell_type": "code",
   "execution_count": 51,
   "id": "1bdb8acf-06ab-49d4-9d37-74c3dfd9c140",
   "metadata": {},
   "outputs": [],
   "source": [
    "#Correcting the data formats\n",
    "open_invoice_data['Due Date'] = pd.to_datetime(open_invoice_data['Due Date'])\n",
    "open_invoice_data['INV_CREATION_DATE'] = pd.to_datetime(open_invoice_data['INV_CREATION_DATE'])\n",
    "\n",
    "open_invoice_data['USD Amount'] = open_invoice_data['USD Amount'].apply(lambda x: x.replace(\",\", \"\"))\n",
    "open_invoice_data['USD Amount'] = open_invoice_data['USD Amount'].astype(int)"
   ]
  },
  {
   "cell_type": "code",
   "execution_count": 52,
   "id": "932f4b8c-5c3e-4aa3-92c5-75cedb5ba400",
   "metadata": {},
   "outputs": [],
   "source": [
    "#Removing the negative & 0 values\n",
    "open_invoice_data = open_invoice_data[open_invoice_data['USD Amount']>0]"
   ]
  },
  {
   "cell_type": "code",
   "execution_count": 53,
   "id": "26ffb841-3314-46c4-b977-6c3c0587f4de",
   "metadata": {},
   "outputs": [
    {
     "name": "stdout",
     "output_type": "stream",
     "text": [
      "<class 'pandas.core.frame.DataFrame'>\n",
      "Index: 79516 entries, 1 to 88203\n",
      "Data columns (total 7 columns):\n",
      " #   Column             Non-Null Count  Dtype         \n",
      "---  ------             --------------  -----         \n",
      " 0   Customer_Name      79516 non-null  object        \n",
      " 1   Payment Term       79516 non-null  object        \n",
      " 2   Due Date           79516 non-null  datetime64[ns]\n",
      " 3   Transaction Class  79516 non-null  object        \n",
      " 4   AGE                79516 non-null  int64         \n",
      " 5   USD Amount         79516 non-null  int64         \n",
      " 6   INV_CREATION_DATE  79516 non-null  datetime64[ns]\n",
      "dtypes: datetime64[ns](2), int64(2), object(3)\n",
      "memory usage: 4.9+ MB\n"
     ]
    }
   ],
   "source": [
    "#Re-checking\n",
    "open_invoice_data.info()"
   ]
  },
  {
   "cell_type": "code",
   "execution_count": 54,
   "id": "bcef6dc4-8902-46a3-a56c-59ce0ffb082d",
   "metadata": {},
   "outputs": [
    {
     "data": {
      "text/plain": [
       "Payment Term\n",
       "30 Days from Inv Date    18328\n",
       "60 Days from Inv Date    17599\n",
       "Immediate Payment        16202\n",
       "60 Days from EOM          8170\n",
       "30 Days from EOM          5324\n",
       "Others                    4068\n",
       "90 Days from EOM          2595\n",
       "90 Days from Inv Date     2429\n",
       "45 Days from Inv Date     1533\n",
       "100% Adv Payment          1317\n",
       "15 Days from EOM          1097\n",
       "45 Days from EOM           854\n",
       "Name: count, dtype: int64"
      ]
     },
     "execution_count": 54,
     "metadata": {},
     "output_type": "execute_result"
    }
   ],
   "source": [
    "#Feature engineering as done for 'Payments Term' & 'Invoice Class' columns above\n",
    "open_invoice_data['Payment Term'] = open_invoice_data['Payment Term'].apply(lambda x: x if x in top_attributes else 'Others')\n",
    "open_invoice_data['Payment Term'].value_counts()"
   ]
  },
  {
   "cell_type": "code",
   "execution_count": 55,
   "id": "d32bc61a-8169-4f17-9486-028709acf588",
   "metadata": {},
   "outputs": [
    {
     "data": {
      "text/html": [
       "<div>\n",
       "<style scoped>\n",
       "    .dataframe tbody tr th:only-of-type {\n",
       "        vertical-align: middle;\n",
       "    }\n",
       "\n",
       "    .dataframe tbody tr th {\n",
       "        vertical-align: top;\n",
       "    }\n",
       "\n",
       "    .dataframe thead th {\n",
       "        text-align: right;\n",
       "    }\n",
       "</style>\n",
       "<table border=\"1\" class=\"dataframe\">\n",
       "  <thead>\n",
       "    <tr style=\"text-align: right;\">\n",
       "      <th></th>\n",
       "      <th>Customer_Name</th>\n",
       "      <th>Due Date</th>\n",
       "      <th>Transaction Class</th>\n",
       "      <th>AGE</th>\n",
       "      <th>USD Amount</th>\n",
       "      <th>INV_CREATION_DATE</th>\n",
       "      <th>100% Adv Payment</th>\n",
       "      <th>15 Days from EOM</th>\n",
       "      <th>30 Days from EOM</th>\n",
       "      <th>30 Days from Inv Date</th>\n",
       "      <th>45 Days from EOM</th>\n",
       "      <th>45 Days from Inv Date</th>\n",
       "      <th>60 Days from EOM</th>\n",
       "      <th>60 Days from Inv Date</th>\n",
       "      <th>90 Days from EOM</th>\n",
       "      <th>90 Days from Inv Date</th>\n",
       "      <th>Immediate Payment</th>\n",
       "    </tr>\n",
       "  </thead>\n",
       "  <tbody>\n",
       "    <tr>\n",
       "      <th>1</th>\n",
       "      <td>AL J Corp</td>\n",
       "      <td>2022-03-03</td>\n",
       "      <td>INVOICE</td>\n",
       "      <td>33</td>\n",
       "      <td>2000</td>\n",
       "      <td>2022-02-01 14:09:00</td>\n",
       "      <td>False</td>\n",
       "      <td>False</td>\n",
       "      <td>False</td>\n",
       "      <td>True</td>\n",
       "      <td>False</td>\n",
       "      <td>False</td>\n",
       "      <td>False</td>\n",
       "      <td>False</td>\n",
       "      <td>False</td>\n",
       "      <td>False</td>\n",
       "      <td>False</td>\n",
       "    </tr>\n",
       "    <tr>\n",
       "      <th>2</th>\n",
       "      <td>AL J Corp</td>\n",
       "      <td>2022-04-23</td>\n",
       "      <td>INVOICE</td>\n",
       "      <td>-18</td>\n",
       "      <td>2000</td>\n",
       "      <td>2022-03-24 17:46:00</td>\n",
       "      <td>False</td>\n",
       "      <td>False</td>\n",
       "      <td>False</td>\n",
       "      <td>True</td>\n",
       "      <td>False</td>\n",
       "      <td>False</td>\n",
       "      <td>False</td>\n",
       "      <td>False</td>\n",
       "      <td>False</td>\n",
       "      <td>False</td>\n",
       "      <td>False</td>\n",
       "    </tr>\n",
       "    <tr>\n",
       "      <th>3</th>\n",
       "      <td>AL R Corp</td>\n",
       "      <td>2022-01-19</td>\n",
       "      <td>INVOICE</td>\n",
       "      <td>76</td>\n",
       "      <td>2415</td>\n",
       "      <td>2022-01-05 11:49:00</td>\n",
       "      <td>False</td>\n",
       "      <td>False</td>\n",
       "      <td>False</td>\n",
       "      <td>False</td>\n",
       "      <td>False</td>\n",
       "      <td>False</td>\n",
       "      <td>False</td>\n",
       "      <td>False</td>\n",
       "      <td>False</td>\n",
       "      <td>False</td>\n",
       "      <td>False</td>\n",
       "    </tr>\n",
       "    <tr>\n",
       "      <th>4</th>\n",
       "      <td>ALLI Corp</td>\n",
       "      <td>2022-04-30</td>\n",
       "      <td>INVOICE</td>\n",
       "      <td>-25</td>\n",
       "      <td>3800</td>\n",
       "      <td>2022-03-03 22:30:00</td>\n",
       "      <td>False</td>\n",
       "      <td>False</td>\n",
       "      <td>True</td>\n",
       "      <td>False</td>\n",
       "      <td>False</td>\n",
       "      <td>False</td>\n",
       "      <td>False</td>\n",
       "      <td>False</td>\n",
       "      <td>False</td>\n",
       "      <td>False</td>\n",
       "      <td>False</td>\n",
       "    </tr>\n",
       "    <tr>\n",
       "      <th>5</th>\n",
       "      <td>ALLI Corp</td>\n",
       "      <td>2022-04-30</td>\n",
       "      <td>INVOICE</td>\n",
       "      <td>-25</td>\n",
       "      <td>1264</td>\n",
       "      <td>2022-03-03 22:30:00</td>\n",
       "      <td>False</td>\n",
       "      <td>False</td>\n",
       "      <td>True</td>\n",
       "      <td>False</td>\n",
       "      <td>False</td>\n",
       "      <td>False</td>\n",
       "      <td>False</td>\n",
       "      <td>False</td>\n",
       "      <td>False</td>\n",
       "      <td>False</td>\n",
       "      <td>False</td>\n",
       "    </tr>\n",
       "  </tbody>\n",
       "</table>\n",
       "</div>"
      ],
      "text/plain": [
       "  Customer_Name   Due Date Transaction Class  AGE  USD Amount  \\\n",
       "1     AL J Corp 2022-03-03           INVOICE   33        2000   \n",
       "2     AL J Corp 2022-04-23           INVOICE  -18        2000   \n",
       "3     AL R Corp 2022-01-19           INVOICE   76        2415   \n",
       "4     ALLI Corp 2022-04-30           INVOICE  -25        3800   \n",
       "5     ALLI Corp 2022-04-30           INVOICE  -25        1264   \n",
       "\n",
       "    INV_CREATION_DATE  100% Adv Payment  15 Days from EOM  30 Days from EOM  \\\n",
       "1 2022-02-01 14:09:00             False             False             False   \n",
       "2 2022-03-24 17:46:00             False             False             False   \n",
       "3 2022-01-05 11:49:00             False             False             False   \n",
       "4 2022-03-03 22:30:00             False             False              True   \n",
       "5 2022-03-03 22:30:00             False             False              True   \n",
       "\n",
       "   30 Days from Inv Date  45 Days from EOM  45 Days from Inv Date  \\\n",
       "1                   True             False                  False   \n",
       "2                   True             False                  False   \n",
       "3                  False             False                  False   \n",
       "4                  False             False                  False   \n",
       "5                  False             False                  False   \n",
       "\n",
       "   60 Days from EOM  60 Days from Inv Date  90 Days from EOM  \\\n",
       "1             False                  False             False   \n",
       "2             False                  False             False   \n",
       "3             False                  False             False   \n",
       "4             False                  False             False   \n",
       "5             False                  False             False   \n",
       "\n",
       "   90 Days from Inv Date  Immediate Payment  \n",
       "1                  False              False  \n",
       "2                  False              False  \n",
       "3                  False              False  \n",
       "4                  False              False  \n",
       "5                  False              False  "
      ]
     },
     "execution_count": 55,
     "metadata": {},
     "output_type": "execute_result"
    }
   ],
   "source": [
    "#Creating dummy variables\n",
    "payment_term_dummy_for_oi = pd.get_dummies(open_invoice_data['Payment Term']).drop('Others', axis=1)\n",
    "\n",
    "#Merging the data and removing the 'Payment Term' column\n",
    "open_invoice_data = open_invoice_data.join(payment_term_dummy_for_oi).drop('Payment Term', axis=1)\n",
    "open_invoice_data.head()"
   ]
  },
  {
   "cell_type": "code",
   "execution_count": 56,
   "id": "bd25057f-3560-4f49-8a9c-1d56bbd9a4ad",
   "metadata": {},
   "outputs": [
    {
     "data": {
      "text/plain": [
       "Transaction Class\n",
       "INVOICE       78251\n",
       "DEBIT NOTE     1265\n",
       "Name: count, dtype: int64"
      ]
     },
     "execution_count": 56,
     "metadata": {},
     "output_type": "execute_result"
    }
   ],
   "source": [
    "#Workin on the transaction class \n",
    "open_invoice_data['Transaction Class'].value_counts()"
   ]
  },
  {
   "cell_type": "code",
   "execution_count": 57,
   "id": "4b0bdf30-9f46-41c0-8f61-0134639aad40",
   "metadata": {},
   "outputs": [],
   "source": [
    "#Standardising the column\n",
    "open_invoice_data['Transaction Class'] = open_invoice_data['Transaction Class'].map(lambda x: 'INV' if x=='INVOICE' else 'DM')"
   ]
  },
  {
   "cell_type": "code",
   "execution_count": 58,
   "id": "af7b40b7-cbfb-47cd-98ca-e210bf864cae",
   "metadata": {},
   "outputs": [],
   "source": [
    "#Creating dummy variables\n",
    "transaction_class_dummy = pd.get_dummies(open_invoice_data['Transaction Class'])\n",
    "\n",
    "#Adding the dummy variables to main dataset and dropping the Transaction Class column\n",
    "open_invoice_data = open_invoice_data.join(transaction_class_dummy).drop('Transaction Class', axis=1)\n",
    "\n",
    "#'CM' variable needed in open_invoice_data\n",
    "open_invoice_data['CM'] = 0"
   ]
  },
  {
   "cell_type": "markdown",
   "id": "e3db86f9-09d7-4f31-9195-52be1a4fd1e3",
   "metadata": {},
   "source": [
    "### Working on customer segmentations"
   ]
  },
  {
   "cell_type": "code",
   "execution_count": 60,
   "id": "95b3a117-a88b-4cfa-828e-dc248056d06e",
   "metadata": {},
   "outputs": [],
   "source": [
    "#Number of days spent to make the payment after invoice creation\n",
    "received_payments_data['num_days_spent'] = (received_payments_data['RECEIPT_DATE']-received_payments_data['INVOICE_CREATION_DATE']).dt.days"
   ]
  },
  {
   "cell_type": "code",
   "execution_count": 61,
   "id": "827146ee-8490-42ca-bdd3-4f5c67a05a15",
   "metadata": {},
   "outputs": [
    {
     "data": {
      "text/html": [
       "<div>\n",
       "<style scoped>\n",
       "    .dataframe tbody tr th:only-of-type {\n",
       "        vertical-align: middle;\n",
       "    }\n",
       "\n",
       "    .dataframe tbody tr th {\n",
       "        vertical-align: top;\n",
       "    }\n",
       "\n",
       "    .dataframe thead th {\n",
       "        text-align: right;\n",
       "    }\n",
       "</style>\n",
       "<table border=\"1\" class=\"dataframe\">\n",
       "  <thead>\n",
       "    <tr style=\"text-align: right;\">\n",
       "      <th></th>\n",
       "      <th>avgnum_days_spent</th>\n",
       "    </tr>\n",
       "    <tr>\n",
       "      <th>CUSTOMER_NAME</th>\n",
       "      <th></th>\n",
       "    </tr>\n",
       "  </thead>\n",
       "  <tbody>\n",
       "    <tr>\n",
       "      <th>3D D Corp</th>\n",
       "      <td>24.395349</td>\n",
       "    </tr>\n",
       "    <tr>\n",
       "      <th>6TH  Corp</th>\n",
       "      <td>40.666667</td>\n",
       "    </tr>\n",
       "    <tr>\n",
       "      <th>A3 D Corp</th>\n",
       "      <td>45.400000</td>\n",
       "    </tr>\n",
       "    <tr>\n",
       "      <th>ABC  Corp</th>\n",
       "      <td>16.000000</td>\n",
       "    </tr>\n",
       "    <tr>\n",
       "      <th>ABDU Corp</th>\n",
       "      <td>76.906250</td>\n",
       "    </tr>\n",
       "  </tbody>\n",
       "</table>\n",
       "</div>"
      ],
      "text/plain": [
       "               avgnum_days_spent\n",
       "CUSTOMER_NAME                   \n",
       "3D D Corp              24.395349\n",
       "6TH  Corp              40.666667\n",
       "A3 D Corp              45.400000\n",
       "ABC  Corp              16.000000\n",
       "ABDU Corp              76.906250"
      ]
     },
     "execution_count": 61,
     "metadata": {},
     "output_type": "execute_result"
    }
   ],
   "source": [
    "#Customer wise average days for payment\n",
    "customer_segment_1 = received_payments_data.groupby('CUSTOMER_NAME')['num_days_spent'].mean()\n",
    "customer_segment_1 = customer_segment_1.to_frame()\n",
    "customer_segment_1.reset_index\n",
    "customer_segment_1.rename(columns={'num_days_spent': 'avgnum_days_spent'}, inplace=True)\n",
    "customer_segment_1.head()"
   ]
  },
  {
   "cell_type": "code",
   "execution_count": 62,
   "id": "ad39f50a-6c52-4c9e-82f1-81482126ed4b",
   "metadata": {},
   "outputs": [
    {
     "data": {
      "text/html": [
       "<div>\n",
       "<style scoped>\n",
       "    .dataframe tbody tr th:only-of-type {\n",
       "        vertical-align: middle;\n",
       "    }\n",
       "\n",
       "    .dataframe tbody tr th {\n",
       "        vertical-align: top;\n",
       "    }\n",
       "\n",
       "    .dataframe thead th {\n",
       "        text-align: right;\n",
       "    }\n",
       "</style>\n",
       "<table border=\"1\" class=\"dataframe\">\n",
       "  <thead>\n",
       "    <tr style=\"text-align: right;\">\n",
       "      <th></th>\n",
       "      <th>stdnum_days_spent</th>\n",
       "    </tr>\n",
       "    <tr>\n",
       "      <th>CUSTOMER_NAME</th>\n",
       "      <th></th>\n",
       "    </tr>\n",
       "  </thead>\n",
       "  <tbody>\n",
       "    <tr>\n",
       "      <th>3D D Corp</th>\n",
       "      <td>13.040449</td>\n",
       "    </tr>\n",
       "    <tr>\n",
       "      <th>6TH  Corp</th>\n",
       "      <td>7.952987</td>\n",
       "    </tr>\n",
       "    <tr>\n",
       "      <th>A3 D Corp</th>\n",
       "      <td>52.581366</td>\n",
       "    </tr>\n",
       "    <tr>\n",
       "      <th>ABC  Corp</th>\n",
       "      <td>0.000000</td>\n",
       "    </tr>\n",
       "    <tr>\n",
       "      <th>ABDU Corp</th>\n",
       "      <td>54.919326</td>\n",
       "    </tr>\n",
       "  </tbody>\n",
       "</table>\n",
       "</div>"
      ],
      "text/plain": [
       "               stdnum_days_spent\n",
       "CUSTOMER_NAME                   \n",
       "3D D Corp              13.040449\n",
       "6TH  Corp               7.952987\n",
       "A3 D Corp              52.581366\n",
       "ABC  Corp               0.000000\n",
       "ABDU Corp              54.919326"
      ]
     },
     "execution_count": 62,
     "metadata": {},
     "output_type": "execute_result"
    }
   ],
   "source": [
    "#Customer wise standard deviation in days for payment\n",
    "customer_segment_2 = received_payments_data.groupby('CUSTOMER_NAME')['num_days_spent'].std()\n",
    "customer_segment_2 = customer_segment_2.to_frame()\n",
    "customer_segment_2.reset_index\n",
    "customer_segment_2.rename(columns={'num_days_spent': 'stdnum_days_spent'}, inplace=True)\n",
    "customer_segment_2.head()"
   ]
  },
  {
   "cell_type": "code",
   "execution_count": 63,
   "id": "8759b050-2bd7-4d48-ba11-9f7cf06c406f",
   "metadata": {},
   "outputs": [
    {
     "data": {
      "text/html": [
       "<div>\n",
       "<style scoped>\n",
       "    .dataframe tbody tr th:only-of-type {\n",
       "        vertical-align: middle;\n",
       "    }\n",
       "\n",
       "    .dataframe tbody tr th {\n",
       "        vertical-align: top;\n",
       "    }\n",
       "\n",
       "    .dataframe thead th {\n",
       "        text-align: right;\n",
       "    }\n",
       "</style>\n",
       "<table border=\"1\" class=\"dataframe\">\n",
       "  <thead>\n",
       "    <tr style=\"text-align: right;\">\n",
       "      <th></th>\n",
       "      <th>avgnum_days_spent</th>\n",
       "      <th>stdnum_days_spent</th>\n",
       "    </tr>\n",
       "    <tr>\n",
       "      <th>CUSTOMER_NAME</th>\n",
       "      <th></th>\n",
       "      <th></th>\n",
       "    </tr>\n",
       "  </thead>\n",
       "  <tbody>\n",
       "    <tr>\n",
       "      <th>3D D Corp</th>\n",
       "      <td>24.395349</td>\n",
       "      <td>13.040449</td>\n",
       "    </tr>\n",
       "    <tr>\n",
       "      <th>6TH  Corp</th>\n",
       "      <td>40.666667</td>\n",
       "      <td>7.952987</td>\n",
       "    </tr>\n",
       "    <tr>\n",
       "      <th>A3 D Corp</th>\n",
       "      <td>45.400000</td>\n",
       "      <td>52.581366</td>\n",
       "    </tr>\n",
       "    <tr>\n",
       "      <th>ABC  Corp</th>\n",
       "      <td>16.000000</td>\n",
       "      <td>0.000000</td>\n",
       "    </tr>\n",
       "    <tr>\n",
       "      <th>ABDU Corp</th>\n",
       "      <td>76.906250</td>\n",
       "      <td>54.919326</td>\n",
       "    </tr>\n",
       "  </tbody>\n",
       "</table>\n",
       "</div>"
      ],
      "text/plain": [
       "               avgnum_days_spent  stdnum_days_spent\n",
       "CUSTOMER_NAME                                      \n",
       "3D D Corp              24.395349          13.040449\n",
       "6TH  Corp              40.666667           7.952987\n",
       "A3 D Corp              45.400000          52.581366\n",
       "ABC  Corp              16.000000           0.000000\n",
       "ABDU Corp              76.906250          54.919326"
      ]
     },
     "execution_count": 63,
     "metadata": {},
     "output_type": "execute_result"
    }
   ],
   "source": [
    "#Merging the dataframes\n",
    "customer_segment_merged = pd.merge(customer_segment_1, customer_segment_2, how='inner', on='CUSTOMER_NAME')\n",
    "\n",
    "customer_segment_merged.head()"
   ]
  },
  {
   "cell_type": "code",
   "execution_count": 64,
   "id": "b1122aa4-98aa-4453-a94f-20d71d5e364d",
   "metadata": {},
   "outputs": [
    {
     "data": {
      "image/png": "[encoded data removed]",
      "text/plain": [
       "<Figure size 1000x400 with 2 Axes>"
      ]
     },
     "metadata": {},
     "output_type": "display_data"
    }
   ],
   "source": [
    "# Visualising the cust_seg dataframe\n",
    "plt.figure(figsize=(10,4))\n",
    "\n",
    "plt.subplot(1,2,1)\n",
    "sns.histplot(customer_segment_merged['avgnum_days_spent'])\n",
    "\n",
    "plt.subplot(1,2,2)\n",
    "sns.histplot(customer_segment_merged['stdnum_days_spent'])\n",
    "\n",
    "plt.show()"
   ]
  },
  {
   "cell_type": "markdown",
   "id": "ef825194-9e9d-40bc-9dfd-8b48110b5bd6",
   "metadata": {},
   "source": [
    "##### Note: Data is not normalised"
   ]
  },
  {
   "cell_type": "code",
   "execution_count": 66,
   "id": "b12740d4-351b-444c-9afc-9c083c9f3ae1",
   "metadata": {},
   "outputs": [
    {
     "data": {
      "text/plain": [
       "CUSTOMER_NAME         0\n",
       "avgnum_days_spent     0\n",
       "stdnum_days_spent    86\n",
       "dtype: int64"
      ]
     },
     "execution_count": 66,
     "metadata": {},
     "output_type": "execute_result"
    }
   ],
   "source": [
    "#Resetting the index\n",
    "customer_segment_merged.reset_index(inplace=True)\n",
    "\n",
    "#Checking for null values\n",
    "round(customer_segment_merged.isna().sum())"
   ]
  },
  {
   "cell_type": "code",
   "execution_count": 67,
   "id": "3e4f5341-3120-49ab-b116-5642c4b215e4",
   "metadata": {},
   "outputs": [],
   "source": [
    "#Null values to be replaced with 0 for missing cases\n",
    "customer_segment_merged['stdnum_days_spent'].fillna(0,inplace=True)"
   ]
  },
  {
   "cell_type": "code",
   "execution_count": 68,
   "id": "a8f9c443-264f-41a4-aed5-1f97056dbad5",
   "metadata": {},
   "outputs": [
    {
     "data": {
      "text/html": [
       "<div>\n",
       "<style scoped>\n",
       "    .dataframe tbody tr th:only-of-type {\n",
       "        vertical-align: middle;\n",
       "    }\n",
       "\n",
       "    .dataframe tbody tr th {\n",
       "        vertical-align: top;\n",
       "    }\n",
       "\n",
       "    .dataframe thead th {\n",
       "        text-align: right;\n",
       "    }\n",
       "</style>\n",
       "<table border=\"1\" class=\"dataframe\">\n",
       "  <thead>\n",
       "    <tr style=\"text-align: right;\">\n",
       "      <th></th>\n",
       "      <th>avgnum_days_spent</th>\n",
       "      <th>stdnum_days_spent</th>\n",
       "    </tr>\n",
       "  </thead>\n",
       "  <tbody>\n",
       "    <tr>\n",
       "      <th>0</th>\n",
       "      <td>24.395349</td>\n",
       "      <td>13.040449</td>\n",
       "    </tr>\n",
       "    <tr>\n",
       "      <th>1</th>\n",
       "      <td>40.666667</td>\n",
       "      <td>7.952987</td>\n",
       "    </tr>\n",
       "    <tr>\n",
       "      <th>2</th>\n",
       "      <td>45.400000</td>\n",
       "      <td>52.581366</td>\n",
       "    </tr>\n",
       "    <tr>\n",
       "      <th>3</th>\n",
       "      <td>16.000000</td>\n",
       "      <td>0.000000</td>\n",
       "    </tr>\n",
       "    <tr>\n",
       "      <th>4</th>\n",
       "      <td>76.906250</td>\n",
       "      <td>54.919326</td>\n",
       "    </tr>\n",
       "  </tbody>\n",
       "</table>\n",
       "</div>"
      ],
      "text/plain": [
       "   avgnum_days_spent  stdnum_days_spent\n",
       "0          24.395349          13.040449\n",
       "1          40.666667           7.952987\n",
       "2          45.400000          52.581366\n",
       "3          16.000000           0.000000\n",
       "4          76.906250          54.919326"
      ]
     },
     "execution_count": 68,
     "metadata": {},
     "output_type": "execute_result"
    }
   ],
   "source": [
    "#Creating a dataframe for clustering\n",
    "clustering_dataset = customer_segment_merged.copy()\n",
    "\n",
    "#Dropping CUSTOMER_NAME for clustering\n",
    "clustering_dataset.drop('CUSTOMER_NAME',axis=1,inplace=True)\n",
    "clustering_dataset.head()"
   ]
  },
  {
   "cell_type": "markdown",
   "id": "291560f1-87ce-494e-92d8-77381d4ffc86",
   "metadata": {},
   "source": [
    "### Clustering"
   ]
  },
  {
   "cell_type": "code",
   "execution_count": 70,
   "id": "9a66aaee-d5fe-4ce7-b3b1-0065acd1812c",
   "metadata": {},
   "outputs": [],
   "source": [
    "#Importing libraries\n",
    "from sklearn.cluster import KMeans\n",
    "from sklearn.metrics import silhouette_score"
   ]
  },
  {
   "cell_type": "code",
   "execution_count": 71,
   "id": "4f9c8583-2016-4422-a06d-0b4402e327e6",
   "metadata": {},
   "outputs": [
    {
     "data": {
      "text/plain": [
       "array([[ 50.42721422,  22.91009706],\n",
       "       [148.43521831, 107.97189172],\n",
       "       [394.08486822, 246.15996702],\n",
       "       [868.4195122 , 103.17807528]])"
      ]
     },
     "execution_count": 71,
     "metadata": {},
     "output_type": "execute_result"
    }
   ],
   "source": [
    "#K-means\n",
    "k_means = KMeans(n_clusters=4, max_iter=50, random_state=45)\n",
    "k_means.fit(clustering_dataset)\n",
    "k_means.cluster_centers_"
   ]
  },
  {
   "cell_type": "code",
   "execution_count": 72,
   "id": "fa1be5ed-71ec-4898-a585-2eed26b43ede",
   "metadata": {},
   "outputs": [
    {
     "name": "stdout",
     "output_type": "stream",
     "text": [
      "For n_clusters=2, the silhouette score is 0.7861383479889147\n",
      "For n_clusters=3, the silhouette score is 0.7091967747310427\n",
      "For n_clusters=4, the silhouette score is 0.556731529161868\n",
      "For n_clusters=5, the silhouette score is 0.4106445217495286\n",
      "For n_clusters=6, the silhouette score is 0.42403857283187885\n",
      "For n_clusters=7, the silhouette score is 0.43098889273538715\n",
      "For n_clusters=8, the silhouette score is 0.43470676169420264\n"
     ]
    }
   ],
   "source": [
    "#Silhouette analysis\n",
    "cluster_range = [2, 3, 4, 5, 6, 7, 8]\n",
    "\n",
    "for cluster in cluster_range:\n",
    "    \n",
    "    # intialise kmeans\n",
    "    k_means = KMeans(n_clusters=cluster, max_iter=50, random_state=42)\n",
    "    k_means.fit(clustering_dataset)\n",
    "    \n",
    "    cluster_labels = k_means.labels_\n",
    "    \n",
    "    # silhouette score\n",
    "    silhouette_avg = silhouette_score(clustering_dataset, cluster_labels)\n",
    "    print(\"For n_clusters={0}, the silhouette score is {1}\".format(cluster, silhouette_avg))"
   ]
  },
  {
   "cell_type": "markdown",
   "id": "ab4df2fc-042f-4801-a572-bce9853f3e3c",
   "metadata": {},
   "source": [
    "##### Note: The oplimal number of clusters is = 3"
   ]
  },
  {
   "cell_type": "code",
   "execution_count": 74,
   "id": "3c932832-c4bb-45b7-b867-f9438a24df76",
   "metadata": {},
   "outputs": [
    {
     "data": {
      "text/html": [
       "<style>#sk-container-id-1 {\n",
       "  /* Definition of color scheme common for light and dark mode */\n",
       "  --sklearn-color-text: black;\n",
       "  --sklearn-color-line: gray;\n",
       "  /* Definition of color scheme for unfitted estimators */\n",
       "  --sklearn-color-unfitted-level-0: #fff5e6;\n",
       "  --sklearn-color-unfitted-level-1: #f6e4d2;\n",
       "  --sklearn-color-unfitted-level-2: #ffe0b3;\n",
       "  --sklearn-color-unfitted-level-3: chocolate;\n",
       "  /* Definition of color scheme for fitted estimators */\n",
       "  --sklearn-color-fitted-level-0: #f0f8ff;\n",
       "  --sklearn-color-fitted-level-1: #d4ebff;\n",
       "  --sklearn-color-fitted-level-2: #b3dbfd;\n",
       "  --sklearn-color-fitted-level-3: cornflowerblue;\n",
       "\n",
       "  /* Specific color for light theme */\n",
       "  --sklearn-color-text-on-default-background: var(--sg-text-color, var(--theme-code-foreground, var(--jp-content-font-color1, black)));\n",
       "  --sklearn-color-background: var(--sg-background-color, var(--theme-background, var(--jp-layout-color0, white)));\n",
       "  --sklearn-color-border-box: var(--sg-text-color, var(--theme-code-foreground, var(--jp-content-font-color1, black)));\n",
       "  --sklearn-color-icon: #696969;\n",
       "\n",
       "  @media (prefers-color-scheme: dark) {\n",
       "    /* Redefinition of color scheme for dark theme */\n",
       "    --sklearn-color-text-on-default-background: var(--sg-text-color, var(--theme-code-foreground, var(--jp-content-font-color1, white)));\n",
       "    --sklearn-color-background: var(--sg-background-color, var(--theme-background, var(--jp-layout-color0, #111)));\n",
       "    --sklearn-color-border-box: var(--sg-text-color, var(--theme-code-foreground, var(--jp-content-font-color1, white)));\n",
       "    --sklearn-color-icon: #878787;\n",
       "  }\n",
       "}\n",
       "\n",
       "#sk-container-id-1 {\n",
       "  color: var(--sklearn-color-text);\n",
       "}\n",
       "\n",
       "#sk-container-id-1 pre {\n",
       "  padding: 0;\n",
       "}\n",
       "\n",
       "#sk-container-id-1 input.sk-hidden--visually {\n",
       "  border: 0;\n",
       "  clip: rect(1px 1px 1px 1px);\n",
       "  clip: rect(1px, 1px, 1px, 1px);\n",
       "  height: 1px;\n",
       "  margin: -1px;\n",
       "  overflow: hidden;\n",
       "  padding: 0;\n",
       "  position: absolute;\n",
       "  width: 1px;\n",
       "}\n",
       "\n",
       "#sk-container-id-1 div.sk-dashed-wrapped {\n",
       "  border: 1px dashed var(--sklearn-color-line);\n",
       "  margin: 0 0.4em 0.5em 0.4em;\n",
       "  box-sizing: border-box;\n",
       "  padding-bottom: 0.4em;\n",
       "  background-color: var(--sklearn-color-background);\n",
       "}\n",
       "\n",
       "#sk-container-id-1 div.sk-container {\n",
       "  /* jupyter's `normalize.less` sets `[hidden] { display: none; }`\n",
       "     but bootstrap.min.css set `[hidden] { display: none !important; }`\n",
       "     so we also need the `!important` here to be able to override the\n",
       "     default hidden behavior on the sphinx rendered scikit-learn.org.\n",
       "     See: https://github.com/scikit-learn/scikit-learn/issues/21755 */\n",
       "  display: inline-block !important;\n",
       "  position: relative;\n",
       "}\n",
       "\n",
       "#sk-container-id-1 div.sk-text-repr-fallback {\n",
       "  display: none;\n",
       "}\n",
       "\n",
       "div.sk-parallel-item,\n",
       "div.sk-serial,\n",
       "div.sk-item {\n",
       "  /* draw centered vertical line to link estimators */\n",
       "  background-image: linear-gradient(var(--sklearn-color-text-on-default-background), var(--sklearn-color-text-on-default-background));\n",
       "  background-size: 2px 100%;\n",
       "  background-repeat: no-repeat;\n",
       "  background-position: center center;\n",
       "}\n",
       "\n",
       "/* Parallel-specific style estimator block */\n",
       "\n",
       "#sk-container-id-1 div.sk-parallel-item::after {\n",
       "  content: \"\";\n",
       "  width: 100%;\n",
       "  border-bottom: 2px solid var(--sklearn-color-text-on-default-background);\n",
       "  flex-grow: 1;\n",
       "}\n",
       "\n",
       "#sk-container-id-1 div.sk-parallel {\n",
       "  display: flex;\n",
       "  align-items: stretch;\n",
       "  justify-content: center;\n",
       "  background-color: var(--sklearn-color-background);\n",
       "  position: relative;\n",
       "}\n",
       "\n",
       "#sk-container-id-1 div.sk-parallel-item {\n",
       "  display: flex;\n",
       "  flex-direction: column;\n",
       "}\n",
       "\n",
       "#sk-container-id-1 div.sk-parallel-item:first-child::after {\n",
       "  align-self: flex-end;\n",
       "  width: 50%;\n",
       "}\n",
       "\n",
       "#sk-container-id-1 div.sk-parallel-item:last-child::after {\n",
       "  align-self: flex-start;\n",
       "  width: 50%;\n",
       "}\n",
       "\n",
       "#sk-container-id-1 div.sk-parallel-item:only-child::after {\n",
       "  width: 0;\n",
       "}\n",
       "\n",
       "/* Serial-specific style estimator block */\n",
       "\n",
       "#sk-container-id-1 div.sk-serial {\n",
       "  display: flex;\n",
       "  flex-direction: column;\n",
       "  align-items: center;\n",
       "  background-color: var(--sklearn-color-background);\n",
       "  padding-right: 1em;\n",
       "  padding-left: 1em;\n",
       "}\n",
       "\n",
       "\n",
       "/* Toggleable style: style used for estimator/Pipeline/ColumnTransformer box that is\n",
       "clickable and can be expanded/collapsed.\n",
       "- Pipeline and ColumnTransformer use this feature and define the default style\n",
       "- Estimators will overwrite some part of the style using the `sk-estimator` class\n",
       "*/\n",
       "\n",
       "/* Pipeline and ColumnTransformer style (default) */\n",
       "\n",
       "#sk-container-id-1 div.sk-toggleable {\n",
       "  /* Default theme specific background. It is overwritten whether we have a\n",
       "  specific estimator or a Pipeline/ColumnTransformer */\n",
       "  background-color: var(--sklearn-color-background);\n",
       "}\n",
       "\n",
       "/* Toggleable label */\n",
       "#sk-container-id-1 label.sk-toggleable__label {\n",
       "  cursor: pointer;\n",
       "  display: block;\n",
       "  width: 100%;\n",
       "  margin-bottom: 0;\n",
       "  padding: 0.5em;\n",
       "  box-sizing: border-box;\n",
       "  text-align: center;\n",
       "}\n",
       "\n",
       "#sk-container-id-1 label.sk-toggleable__label-arrow:before {\n",
       "  /* Arrow on the left of the label */\n",
       "  content: \"▸\";\n",
       "  float: left;\n",
       "  margin-right: 0.25em;\n",
       "  color: var(--sklearn-color-icon);\n",
       "}\n",
       "\n",
       "#sk-container-id-1 label.sk-toggleable__label-arrow:hover:before {\n",
       "  color: var(--sklearn-color-text);\n",
       "}\n",
       "\n",
       "/* Toggleable content - dropdown */\n",
       "\n",
       "#sk-container-id-1 div.sk-toggleable__content {\n",
       "  max-height: 0;\n",
       "  max-width: 0;\n",
       "  overflow: hidden;\n",
       "  text-align: left;\n",
       "  /* unfitted */\n",
       "  background-color: var(--sklearn-color-unfitted-level-0);\n",
       "}\n",
       "\n",
       "#sk-container-id-1 div.sk-toggleable__content.fitted {\n",
       "  /* fitted */\n",
       "  background-color: var(--sklearn-color-fitted-level-0);\n",
       "}\n",
       "\n",
       "#sk-container-id-1 div.sk-toggleable__content pre {\n",
       "  margin: 0.2em;\n",
       "  border-radius: 0.25em;\n",
       "  color: var(--sklearn-color-text);\n",
       "  /* unfitted */\n",
       "  background-color: var(--sklearn-color-unfitted-level-0);\n",
       "}\n",
       "\n",
       "#sk-container-id-1 div.sk-toggleable__content.fitted pre {\n",
       "  /* unfitted */\n",
       "  background-color: var(--sklearn-color-fitted-level-0);\n",
       "}\n",
       "\n",
       "#sk-container-id-1 input.sk-toggleable__control:checked~div.sk-toggleable__content {\n",
       "  /* Expand drop-down */\n",
       "  max-height: 200px;\n",
       "  max-width: 100%;\n",
       "  overflow: auto;\n",
       "}\n",
       "\n",
       "#sk-container-id-1 input.sk-toggleable__control:checked~label.sk-toggleable__label-arrow:before {\n",
       "  content: \"▾\";\n",
       "}\n",
       "\n",
       "/* Pipeline/ColumnTransformer-specific style */\n",
       "\n",
       "#sk-container-id-1 div.sk-label input.sk-toggleable__control:checked~label.sk-toggleable__label {\n",
       "  color: var(--sklearn-color-text);\n",
       "  background-color: var(--sklearn-color-unfitted-level-2);\n",
       "}\n",
       "\n",
       "#sk-container-id-1 div.sk-label.fitted input.sk-toggleable__control:checked~label.sk-toggleable__label {\n",
       "  background-color: var(--sklearn-color-fitted-level-2);\n",
       "}\n",
       "\n",
       "/* Estimator-specific style */\n",
       "\n",
       "/* Colorize estimator box */\n",
       "#sk-container-id-1 div.sk-estimator input.sk-toggleable__control:checked~label.sk-toggleable__label {\n",
       "  /* unfitted */\n",
       "  background-color: var(--sklearn-color-unfitted-level-2);\n",
       "}\n",
       "\n",
       "#sk-container-id-1 div.sk-estimator.fitted input.sk-toggleable__control:checked~label.sk-toggleable__label {\n",
       "  /* fitted */\n",
       "  background-color: var(--sklearn-color-fitted-level-2);\n",
       "}\n",
       "\n",
       "#sk-container-id-1 div.sk-label label.sk-toggleable__label,\n",
       "#sk-container-id-1 div.sk-label label {\n",
       "  /* The background is the default theme color */\n",
       "  color: var(--sklearn-color-text-on-default-background);\n",
       "}\n",
       "\n",
       "/* On hover, darken the color of the background */\n",
       "#sk-container-id-1 div.sk-label:hover label.sk-toggleable__label {\n",
       "  color: var(--sklearn-color-text);\n",
       "  background-color: var(--sklearn-color-unfitted-level-2);\n",
       "}\n",
       "\n",
       "/* Label box, darken color on hover, fitted */\n",
       "#sk-container-id-1 div.sk-label.fitted:hover label.sk-toggleable__label.fitted {\n",
       "  color: var(--sklearn-color-text);\n",
       "  background-color: var(--sklearn-color-fitted-level-2);\n",
       "}\n",
       "\n",
       "/* Estimator label */\n",
       "\n",
       "#sk-container-id-1 div.sk-label label {\n",
       "  font-family: monospace;\n",
       "  font-weight: bold;\n",
       "  display: inline-block;\n",
       "  line-height: 1.2em;\n",
       "}\n",
       "\n",
       "#sk-container-id-1 div.sk-label-container {\n",
       "  text-align: center;\n",
       "}\n",
       "\n",
       "/* Estimator-specific */\n",
       "#sk-container-id-1 div.sk-estimator {\n",
       "  font-family: monospace;\n",
       "  border: 1px dotted var(--sklearn-color-border-box);\n",
       "  border-radius: 0.25em;\n",
       "  box-sizing: border-box;\n",
       "  margin-bottom: 0.5em;\n",
       "  /* unfitted */\n",
       "  background-color: var(--sklearn-color-unfitted-level-0);\n",
       "}\n",
       "\n",
       "#sk-container-id-1 div.sk-estimator.fitted {\n",
       "  /* fitted */\n",
       "  background-color: var(--sklearn-color-fitted-level-0);\n",
       "}\n",
       "\n",
       "/* on hover */\n",
       "#sk-container-id-1 div.sk-estimator:hover {\n",
       "  /* unfitted */\n",
       "  background-color: var(--sklearn-color-unfitted-level-2);\n",
       "}\n",
       "\n",
       "#sk-container-id-1 div.sk-estimator.fitted:hover {\n",
       "  /* fitted */\n",
       "  background-color: var(--sklearn-color-fitted-level-2);\n",
       "}\n",
       "\n",
       "/* Specification for estimator info (e.g. \"i\" and \"?\") */\n",
       "\n",
       "/* Common style for \"i\" and \"?\" */\n",
       "\n",
       ".sk-estimator-doc-link,\n",
       "a:link.sk-estimator-doc-link,\n",
       "a:visited.sk-estimator-doc-link {\n",
       "  float: right;\n",
       "  font-size: smaller;\n",
       "  line-height: 1em;\n",
       "  font-family: monospace;\n",
       "  background-color: var(--sklearn-color-background);\n",
       "  border-radius: 1em;\n",
       "  height: 1em;\n",
       "  width: 1em;\n",
       "  text-decoration: none !important;\n",
       "  margin-left: 1ex;\n",
       "  /* unfitted */\n",
       "  border: var(--sklearn-color-unfitted-level-1) 1pt solid;\n",
       "  color: var(--sklearn-color-unfitted-level-1);\n",
       "}\n",
       "\n",
       ".sk-estimator-doc-link.fitted,\n",
       "a:link.sk-estimator-doc-link.fitted,\n",
       "a:visited.sk-estimator-doc-link.fitted {\n",
       "  /* fitted */\n",
       "  border: var(--sklearn-color-fitted-level-1) 1pt solid;\n",
       "  color: var(--sklearn-color-fitted-level-1);\n",
       "}\n",
       "\n",
       "/* On hover */\n",
       "div.sk-estimator:hover .sk-estimator-doc-link:hover,\n",
       ".sk-estimator-doc-link:hover,\n",
       "div.sk-label-container:hover .sk-estimator-doc-link:hover,\n",
       ".sk-estimator-doc-link:hover {\n",
       "  /* unfitted */\n",
       "  background-color: var(--sklearn-color-unfitted-level-3);\n",
       "  color: var(--sklearn-color-background);\n",
       "  text-decoration: none;\n",
       "}\n",
       "\n",
       "div.sk-estimator.fitted:hover .sk-estimator-doc-link.fitted:hover,\n",
       ".sk-estimator-doc-link.fitted:hover,\n",
       "div.sk-label-container:hover .sk-estimator-doc-link.fitted:hover,\n",
       ".sk-estimator-doc-link.fitted:hover {\n",
       "  /* fitted */\n",
       "  background-color: var(--sklearn-color-fitted-level-3);\n",
       "  color: var(--sklearn-color-background);\n",
       "  text-decoration: none;\n",
       "}\n",
       "\n",
       "/* Span, style for the box shown on hovering the info icon */\n",
       ".sk-estimator-doc-link span {\n",
       "  display: none;\n",
       "  z-index: 9999;\n",
       "  position: relative;\n",
       "  font-weight: normal;\n",
       "  right: .2ex;\n",
       "  padding: .5ex;\n",
       "  margin: .5ex;\n",
       "  width: min-content;\n",
       "  min-width: 20ex;\n",
       "  max-width: 50ex;\n",
       "  color: var(--sklearn-color-text);\n",
       "  box-shadow: 2pt 2pt 4pt #999;\n",
       "  /* unfitted */\n",
       "  background: var(--sklearn-color-unfitted-level-0);\n",
       "  border: .5pt solid var(--sklearn-color-unfitted-level-3);\n",
       "}\n",
       "\n",
       ".sk-estimator-doc-link.fitted span {\n",
       "  /* fitted */\n",
       "  background: var(--sklearn-color-fitted-level-0);\n",
       "  border: var(--sklearn-color-fitted-level-3);\n",
       "}\n",
       "\n",
       ".sk-estimator-doc-link:hover span {\n",
       "  display: block;\n",
       "}\n",
       "\n",
       "/* \"?\"-specific style due to the `<a>` HTML tag */\n",
       "\n",
       "#sk-container-id-1 a.estimator_doc_link {\n",
       "  float: right;\n",
       "  font-size: 1rem;\n",
       "  line-height: 1em;\n",
       "  font-family: monospace;\n",
       "  background-color: var(--sklearn-color-background);\n",
       "  border-radius: 1rem;\n",
       "  height: 1rem;\n",
       "  width: 1rem;\n",
       "  text-decoration: none;\n",
       "  /* unfitted */\n",
       "  color: var(--sklearn-color-unfitted-level-1);\n",
       "  border: var(--sklearn-color-unfitted-level-1) 1pt solid;\n",
       "}\n",
       "\n",
       "#sk-container-id-1 a.estimator_doc_link.fitted {\n",
       "  /* fitted */\n",
       "  border: var(--sklearn-color-fitted-level-1) 1pt solid;\n",
       "  color: var(--sklearn-color-fitted-level-1);\n",
       "}\n",
       "\n",
       "/* On hover */\n",
       "#sk-container-id-1 a.estimator_doc_link:hover {\n",
       "  /* unfitted */\n",
       "  background-color: var(--sklearn-color-unfitted-level-3);\n",
       "  color: var(--sklearn-color-background);\n",
       "  text-decoration: none;\n",
       "}\n",
       "\n",
       "#sk-container-id-1 a.estimator_doc_link.fitted:hover {\n",
       "  /* fitted */\n",
       "  background-color: var(--sklearn-color-fitted-level-3);\n",
       "}\n",
       "</style><div id=\"sk-container-id-1\" class=\"sk-top-container\"><div class=\"sk-text-repr-fallback\"><pre>KMeans(max_iter=50, n_clusters=3, random_state=42)</pre><b>In a Jupyter environment, please rerun this cell to show the HTML representation or trust the notebook. <br />On GitHub, the HTML representation is unable to render, please try loading this page with nbviewer.org.</b></div><div class=\"sk-container\" hidden><div class=\"sk-item\"><div class=\"sk-estimator fitted sk-toggleable\"><input class=\"sk-toggleable__control sk-hidden--visually\" id=\"sk-estimator-id-1\" type=\"checkbox\" checked><label for=\"sk-estimator-id-1\" class=\"sk-toggleable__label fitted sk-toggleable__label-arrow fitted\">&nbsp;&nbsp;KMeans<a class=\"sk-estimator-doc-link fitted\" rel=\"noreferrer\" target=\"_blank\" href=\"https://scikit-learn.org/1.5/modules/generated/sklearn.cluster.KMeans.html\">?<span>Documentation for KMeans</span></a><span class=\"sk-estimator-doc-link fitted\">i<span>Fitted</span></span></label><div class=\"sk-toggleable__content fitted\"><pre>KMeans(max_iter=50, n_clusters=3, random_state=42)</pre></div> </div></div></div></div>"
      ],
      "text/plain": [
       "KMeans(max_iter=50, n_clusters=3, random_state=42)"
      ]
     },
     "execution_count": 74,
     "metadata": {},
     "output_type": "execute_result"
    }
   ],
   "source": [
    "#Final model with n_clusters=3\n",
    "k_means = KMeans(n_clusters=3, max_iter=50, random_state=42)\n",
    "k_means.fit(clustering_dataset)"
   ]
  },
  {
   "cell_type": "code",
   "execution_count": 76,
   "id": "2e368e11-2bb1-4dc3-82e5-1a3227b2def7",
   "metadata": {},
   "outputs": [
    {
     "data": {
      "text/plain": [
       "array([1, 1, 1, 1, 1, 1, 1, 1, 1, 1, 2, 1, 0, 1, 1, 1, 1, 1, 1, 1, 1, 1,\n",
       "       1, 1, 1, 1, 1, 0, 1, 1, 1, 0, 0, 1, 1, 1, 1, 0, 1, 1, 0, 1, 1, 0,\n",
       "       1, 1, 1, 1, 1, 1, 1, 1, 1, 1, 1, 2, 1, 1, 1, 1, 1, 1, 1, 1, 1, 1,\n",
       "       2, 1, 1, 1, 0, 1, 1, 1, 1, 1, 1, 1, 1, 1, 0, 0, 1, 1, 1, 1, 1, 1,\n",
       "       1, 1, 1, 0, 1, 1, 1, 1, 1, 1, 1, 1, 1, 1, 2, 1, 1, 1, 1, 1, 1, 1,\n",
       "       1, 1, 1, 1, 1, 1, 1, 1, 1, 1, 1, 1, 1, 1, 0, 0, 1, 1, 1, 1, 1, 1,\n",
       "       1, 1, 1, 0, 1, 1, 1, 1, 1, 1, 1, 1, 1, 1, 1, 1, 1, 1, 1, 1, 1, 1,\n",
       "       2, 0, 1, 1, 0, 1, 1, 1, 1, 1, 1, 1, 1, 1, 0, 1, 1, 1, 1, 1, 1, 1,\n",
       "       1, 1, 1, 1, 1, 0, 0, 1, 0, 1, 1, 1, 1, 1, 1, 1, 1, 1, 1, 1, 1, 1,\n",
       "       1, 0, 1, 1, 1, 1, 1, 1, 0, 1, 1, 1, 1, 1, 1, 1, 1, 1, 0, 1, 1, 1,\n",
       "       1, 1, 1, 1, 1, 1, 1, 1, 1, 1, 1, 2, 1, 1, 1, 1, 0, 0, 1, 1, 1, 1,\n",
       "       1, 1, 0, 1, 1, 0, 1, 0, 1, 1, 1, 1, 0, 1, 0, 1, 0, 1, 1, 1, 1, 1,\n",
       "       1, 1, 1, 1, 1, 1, 0, 1, 0, 1, 1, 1, 1, 1, 1, 0, 1, 0, 1, 1, 1, 1,\n",
       "       2, 1, 1, 1, 1, 1, 1, 1, 1, 1, 1, 0, 1, 1, 1, 2, 1, 0, 0, 0, 1, 1,\n",
       "       1, 1, 1, 1, 0, 1, 1, 0, 1, 1, 1, 1, 0, 1, 1, 1, 1, 1, 1, 1, 2, 1,\n",
       "       1, 1, 1, 1, 1, 1, 1, 1, 1, 1, 1, 1, 1, 1, 1, 1, 1, 1, 1, 1, 0, 1,\n",
       "       1, 1, 1, 1, 1, 1, 0, 1, 1, 2, 1, 1, 1, 1, 1, 1, 1, 1, 1, 1, 1, 1,\n",
       "       1, 0, 1, 0, 2, 1, 1, 1, 1, 1, 1, 1, 1, 1, 1, 1, 1, 1, 1, 1, 1, 1,\n",
       "       1, 1, 1, 1, 1, 1, 1, 1, 2, 1, 1, 1, 1, 1, 1, 1, 0, 1, 1, 1, 1, 1,\n",
       "       1, 1, 1, 1, 1, 1, 1, 1, 1, 1, 1, 1, 1, 1, 1, 1, 1, 1, 1, 1, 1, 1,\n",
       "       1, 1, 1, 1, 1, 1, 1, 1, 1, 1, 1, 1, 1, 1, 1, 1, 1, 0, 1, 1, 1, 1,\n",
       "       1, 0, 1, 1, 1, 1, 2, 1, 1, 1, 1, 1, 1, 1, 1, 1, 1, 0, 1, 1, 1, 1,\n",
       "       1, 1, 1, 1, 1, 1, 0, 1, 1, 1, 1, 1, 1, 1, 1, 1, 1, 1, 1, 1, 1, 1,\n",
       "       1, 1, 1, 1, 0, 2, 2, 1, 1, 2, 1, 1, 1, 1, 1, 1, 1, 1, 1, 1, 1, 1,\n",
       "       1, 1, 1, 2, 1, 1, 1, 1, 1, 1, 1, 1, 1, 1, 1, 1, 1, 1, 1, 1, 1, 1,\n",
       "       1, 1, 1, 2, 1, 1, 0, 1, 1, 1, 1, 1, 1, 1, 1, 1, 1, 1, 1, 1, 1, 1,\n",
       "       0, 1, 1, 1, 1, 1, 1, 1, 1, 1, 1, 1, 1, 1, 1, 1, 1, 1, 1, 1, 1, 1,\n",
       "       1, 1, 1, 1, 1, 1, 1, 1, 1, 1, 1, 1, 1, 1, 0, 1, 1, 1, 1, 1, 0, 1,\n",
       "       1, 1, 1, 1, 1, 1, 1, 1, 1, 1, 1, 1, 1, 1, 1, 1, 1, 0, 1, 1, 1, 1,\n",
       "       2, 1, 1, 1, 1, 0, 1, 0, 1, 0, 1, 1, 1, 1, 1, 1, 1, 1, 1, 1, 1, 1,\n",
       "       1, 1, 1, 1, 1, 1, 1, 0, 1, 1, 1, 1, 1, 1, 1, 1, 1, 1, 1, 1, 1, 1,\n",
       "       1, 1, 1, 1, 1, 1, 0], dtype=int32)"
      ]
     },
     "execution_count": 76,
     "metadata": {},
     "output_type": "execute_result"
    }
   ],
   "source": [
    "k_means.labels_"
   ]
  },
  {
   "cell_type": "code",
   "execution_count": 78,
   "id": "43374469-2b3d-42d2-9edf-53ee59510a1c",
   "metadata": {},
   "outputs": [
    {
     "data": {
      "text/html": [
       "<div>\n",
       "<style scoped>\n",
       "    .dataframe tbody tr th:only-of-type {\n",
       "        vertical-align: middle;\n",
       "    }\n",
       "\n",
       "    .dataframe tbody tr th {\n",
       "        vertical-align: top;\n",
       "    }\n",
       "\n",
       "    .dataframe thead th {\n",
       "        text-align: right;\n",
       "    }\n",
       "</style>\n",
       "<table border=\"1\" class=\"dataframe\">\n",
       "  <thead>\n",
       "    <tr style=\"text-align: right;\">\n",
       "      <th></th>\n",
       "      <th>CUSTOMER_NAME</th>\n",
       "      <th>avgnum_days_spent</th>\n",
       "      <th>stdnum_days_spent</th>\n",
       "      <th>cluster_id</th>\n",
       "    </tr>\n",
       "  </thead>\n",
       "  <tbody>\n",
       "    <tr>\n",
       "      <th>0</th>\n",
       "      <td>3D D Corp</td>\n",
       "      <td>24.395349</td>\n",
       "      <td>13.040449</td>\n",
       "      <td>1</td>\n",
       "    </tr>\n",
       "    <tr>\n",
       "      <th>1</th>\n",
       "      <td>6TH  Corp</td>\n",
       "      <td>40.666667</td>\n",
       "      <td>7.952987</td>\n",
       "      <td>1</td>\n",
       "    </tr>\n",
       "    <tr>\n",
       "      <th>2</th>\n",
       "      <td>A3 D Corp</td>\n",
       "      <td>45.400000</td>\n",
       "      <td>52.581366</td>\n",
       "      <td>1</td>\n",
       "    </tr>\n",
       "    <tr>\n",
       "      <th>3</th>\n",
       "      <td>ABC  Corp</td>\n",
       "      <td>16.000000</td>\n",
       "      <td>0.000000</td>\n",
       "      <td>1</td>\n",
       "    </tr>\n",
       "    <tr>\n",
       "      <th>4</th>\n",
       "      <td>ABDU Corp</td>\n",
       "      <td>76.906250</td>\n",
       "      <td>54.919326</td>\n",
       "      <td>1</td>\n",
       "    </tr>\n",
       "  </tbody>\n",
       "</table>\n",
       "</div>"
      ],
      "text/plain": [
       "  CUSTOMER_NAME  avgnum_days_spent  stdnum_days_spent  cluster_id\n",
       "0     3D D Corp          24.395349          13.040449           1\n",
       "1     6TH  Corp          40.666667           7.952987           1\n",
       "2     A3 D Corp          45.400000          52.581366           1\n",
       "3     ABC  Corp          16.000000           0.000000           1\n",
       "4     ABDU Corp          76.906250          54.919326           1"
      ]
     },
     "execution_count": 78,
     "metadata": {},
     "output_type": "execute_result"
    }
   ],
   "source": [
    "#Assigning labels to the customer_segment_merged dataframe\n",
    "customer_segment_merged['cluster_id'] = k_means.labels_\n",
    "customer_segment_merged.head()"
   ]
  },
  {
   "cell_type": "code",
   "execution_count": null,
   "id": "5c2fc714-03dd-414e-b44c-05ad2c740bb2",
   "metadata": {},
   "outputs": [],
   "source": []
  },
  {
   "cell_type": "code",
   "execution_count": null,
   "id": "7af57a92-0701-40a1-aa8f-ba1b43449fa2",
   "metadata": {},
   "outputs": [],
   "source": []
  },
  {
   "cell_type": "code",
   "execution_count": null,
   "id": "0933f89d-8dc9-44c3-bb9a-f198e7ebaf18",
   "metadata": {},
   "outputs": [],
   "source": []
  },
  {
   "cell_type": "code",
   "execution_count": null,
   "id": "d2e1b28f-7dd3-4858-a1d3-aa57b1473943",
   "metadata": {},
   "outputs": [],
   "source": []
  },
  {
   "cell_type": "code",
   "execution_count": null,
   "id": "5fcff7c4-cae9-4481-85bf-b277304d3997",
   "metadata": {},
   "outputs": [],
   "source": []
  },
  {
   "cell_type": "code",
   "execution_count": null,
   "id": "3fef8b31-c8d4-4a33-8461-2873b5150055",
   "metadata": {},
   "outputs": [],
   "source": []
  },
  {
   "cell_type": "code",
   "execution_count": null,
   "id": "74239973-4624-4223-90f2-4a69778e2e81",
   "metadata": {},
   "outputs": [],
   "source": []
  },
  {
   "cell_type": "code",
   "execution_count": null,
   "id": "6ef4f49b-6d55-4cd5-959f-141703de0b07",
   "metadata": {},
   "outputs": [],
   "source": []
  },
  {
   "cell_type": "code",
   "execution_count": null,
   "id": "3848e229-2d2a-4869-b4fc-112506d2ae14",
   "metadata": {},
   "outputs": [],
   "source": []
  },
  {
   "cell_type": "code",
   "execution_count": null,
   "id": "1a4b8bdb-7030-4dd0-a6c8-7aa1c5cebdea",
   "metadata": {},
   "outputs": [],
   "source": []
  },
  {
   "cell_type": "code",
   "execution_count": null,
   "id": "20d96c57-c333-4989-9dbe-90b0aaceaff1",
   "metadata": {},
   "outputs": [],
   "source": []
  }
 ],
 "metadata": {
  "kernelspec": {
   "display_name": "Python 3 (ipykernel)",
   "language": "python",
   "name": "python3"
  },
  "language_info": {
   "codemirror_mode": {
    "name": "ipython",
    "version": 3
   },
   "file_extension": ".py",
   "mimetype": "text/x-python",
   "name": "python",
   "nbconvert_exporter": "python",
   "pygments_lexer": "ipython3",
   "version": "3.12.7"
  }
 },
 "nbformat": 4,
 "nbformat_minor": 5
}
